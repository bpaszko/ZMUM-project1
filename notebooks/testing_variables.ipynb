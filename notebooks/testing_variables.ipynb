{
 "cells": [
  {
   "cell_type": "markdown",
   "metadata": {},
   "source": [
    "# First models"
   ]
  },
  {
   "cell_type": "code",
   "execution_count": 88,
   "metadata": {},
   "outputs": [],
   "source": [
    "import pandas as pd\n",
    "import numpy as np\n",
    "import category_encoders as ce\n",
    "import catboost as cb\n",
    "import xgboost as xgb\n",
    "import lightgbm as lgb\n",
    "\n",
    "import sys\n",
    "import json\n",
    "\n",
    "from collections import defaultdict\n",
    "from tqdm import tqdm_notebook as tqdm\n",
    "\n",
    "from sklearn.preprocessing import LabelEncoder, OneHotEncoder\n",
    "from sklearn.metrics import precision_score, confusion_matrix, f1_score, make_scorer, explained_variance_score, roc_auc_score\n",
    "from sklearn.model_selection import train_test_split, cross_validate\n",
    "from sklearn.ensemble import RandomForestClassifier\n",
    "\n",
    "sys.path.append('../src')\n",
    "from converters import MLConverter, CatBoostConverter"
   ]
  },
  {
   "cell_type": "code",
   "execution_count": 89,
   "metadata": {},
   "outputs": [
    {
     "name": "stdout",
     "output_type": "stream",
     "text": [
      "Columns: 231\n"
     ]
    },
    {
     "data": {
      "text/html": [
       "<div>\n",
       "<style scoped>\n",
       "    .dataframe tbody tr th:only-of-type {\n",
       "        vertical-align: middle;\n",
       "    }\n",
       "\n",
       "    .dataframe tbody tr th {\n",
       "        vertical-align: top;\n",
       "    }\n",
       "\n",
       "    .dataframe thead th {\n",
       "        text-align: right;\n",
       "    }\n",
       "</style>\n",
       "<table border=\"1\" class=\"dataframe\">\n",
       "  <thead>\n",
       "    <tr style=\"text-align: right;\">\n",
       "      <th></th>\n",
       "      <th>Var1</th>\n",
       "      <th>Var2</th>\n",
       "      <th>Var3</th>\n",
       "      <th>Var4</th>\n",
       "      <th>Var5</th>\n",
       "      <th>Var6</th>\n",
       "      <th>Var7</th>\n",
       "      <th>Var8</th>\n",
       "      <th>Var9</th>\n",
       "      <th>Var10</th>\n",
       "      <th>...</th>\n",
       "      <th>Var222</th>\n",
       "      <th>Var223</th>\n",
       "      <th>Var224</th>\n",
       "      <th>Var225</th>\n",
       "      <th>Var226</th>\n",
       "      <th>Var227</th>\n",
       "      <th>Var228</th>\n",
       "      <th>Var229</th>\n",
       "      <th>Var230</th>\n",
       "      <th>class</th>\n",
       "    </tr>\n",
       "  </thead>\n",
       "  <tbody>\n",
       "    <tr>\n",
       "      <th>0</th>\n",
       "      <td>NaN</td>\n",
       "      <td>NaN</td>\n",
       "      <td>NaN</td>\n",
       "      <td>NaN</td>\n",
       "      <td>NaN</td>\n",
       "      <td>931.0</td>\n",
       "      <td>7.0</td>\n",
       "      <td>NaN</td>\n",
       "      <td>NaN</td>\n",
       "      <td>NaN</td>\n",
       "      <td>...</td>\n",
       "      <td>catzS2D</td>\n",
       "      <td>LM8l689qOp</td>\n",
       "      <td>NaN</td>\n",
       "      <td>ELof</td>\n",
       "      <td>szEZ</td>\n",
       "      <td>ZI9m</td>\n",
       "      <td>ib5G6X1eUxUn6</td>\n",
       "      <td>NaN</td>\n",
       "      <td>NaN</td>\n",
       "      <td>0</td>\n",
       "    </tr>\n",
       "    <tr>\n",
       "      <th>1</th>\n",
       "      <td>NaN</td>\n",
       "      <td>NaN</td>\n",
       "      <td>NaN</td>\n",
       "      <td>NaN</td>\n",
       "      <td>NaN</td>\n",
       "      <td>245.0</td>\n",
       "      <td>7.0</td>\n",
       "      <td>NaN</td>\n",
       "      <td>NaN</td>\n",
       "      <td>NaN</td>\n",
       "      <td>...</td>\n",
       "      <td>bTV7qqc</td>\n",
       "      <td>LM8l689qOp</td>\n",
       "      <td>NaN</td>\n",
       "      <td>NaN</td>\n",
       "      <td>fKCe</td>\n",
       "      <td>RAYp</td>\n",
       "      <td>F2FyR07IdsN7I</td>\n",
       "      <td>NaN</td>\n",
       "      <td>NaN</td>\n",
       "      <td>0</td>\n",
       "    </tr>\n",
       "    <tr>\n",
       "      <th>2</th>\n",
       "      <td>NaN</td>\n",
       "      <td>NaN</td>\n",
       "      <td>NaN</td>\n",
       "      <td>NaN</td>\n",
       "      <td>NaN</td>\n",
       "      <td>791.0</td>\n",
       "      <td>7.0</td>\n",
       "      <td>NaN</td>\n",
       "      <td>NaN</td>\n",
       "      <td>NaN</td>\n",
       "      <td>...</td>\n",
       "      <td>2JfQ3DB</td>\n",
       "      <td>jySVZNlOJy</td>\n",
       "      <td>NaN</td>\n",
       "      <td>ELof</td>\n",
       "      <td>7aLG</td>\n",
       "      <td>RAYp</td>\n",
       "      <td>F2FyR07IdsN7I</td>\n",
       "      <td>am7c</td>\n",
       "      <td>NaN</td>\n",
       "      <td>0</td>\n",
       "    </tr>\n",
       "    <tr>\n",
       "      <th>3</th>\n",
       "      <td>NaN</td>\n",
       "      <td>NaN</td>\n",
       "      <td>NaN</td>\n",
       "      <td>NaN</td>\n",
       "      <td>NaN</td>\n",
       "      <td>1036.0</td>\n",
       "      <td>7.0</td>\n",
       "      <td>NaN</td>\n",
       "      <td>NaN</td>\n",
       "      <td>NaN</td>\n",
       "      <td>...</td>\n",
       "      <td>hHJsvbM</td>\n",
       "      <td>LM8l689qOp</td>\n",
       "      <td>NaN</td>\n",
       "      <td>NaN</td>\n",
       "      <td>Qcbd</td>\n",
       "      <td>6fzt</td>\n",
       "      <td>SbOd7O8ky1wGNxp0Arj0Xs</td>\n",
       "      <td>NaN</td>\n",
       "      <td>NaN</td>\n",
       "      <td>0</td>\n",
       "    </tr>\n",
       "    <tr>\n",
       "      <th>4</th>\n",
       "      <td>NaN</td>\n",
       "      <td>NaN</td>\n",
       "      <td>NaN</td>\n",
       "      <td>NaN</td>\n",
       "      <td>NaN</td>\n",
       "      <td>518.0</td>\n",
       "      <td>7.0</td>\n",
       "      <td>NaN</td>\n",
       "      <td>NaN</td>\n",
       "      <td>NaN</td>\n",
       "      <td>...</td>\n",
       "      <td>APgVoGr</td>\n",
       "      <td>LM8l689qOp</td>\n",
       "      <td>NaN</td>\n",
       "      <td>NaN</td>\n",
       "      <td>kwS7</td>\n",
       "      <td>02N6s8f</td>\n",
       "      <td>xwM2aC7IdeMC0</td>\n",
       "      <td>NaN</td>\n",
       "      <td>NaN</td>\n",
       "      <td>0</td>\n",
       "    </tr>\n",
       "  </tbody>\n",
       "</table>\n",
       "<p>5 rows × 231 columns</p>\n",
       "</div>"
      ],
      "text/plain": [
       "   Var1  Var2  Var3  Var4  Var5    Var6  Var7  Var8  Var9  Var10  ...  \\\n",
       "0   NaN   NaN   NaN   NaN   NaN   931.0   7.0   NaN   NaN    NaN  ...   \n",
       "1   NaN   NaN   NaN   NaN   NaN   245.0   7.0   NaN   NaN    NaN  ...   \n",
       "2   NaN   NaN   NaN   NaN   NaN   791.0   7.0   NaN   NaN    NaN  ...   \n",
       "3   NaN   NaN   NaN   NaN   NaN  1036.0   7.0   NaN   NaN    NaN  ...   \n",
       "4   NaN   NaN   NaN   NaN   NaN   518.0   7.0   NaN   NaN    NaN  ...   \n",
       "\n",
       "    Var222      Var223  Var224  Var225  Var226   Var227  \\\n",
       "0  catzS2D  LM8l689qOp     NaN    ELof    szEZ     ZI9m   \n",
       "1  bTV7qqc  LM8l689qOp     NaN     NaN    fKCe     RAYp   \n",
       "2  2JfQ3DB  jySVZNlOJy     NaN    ELof    7aLG     RAYp   \n",
       "3  hHJsvbM  LM8l689qOp     NaN     NaN    Qcbd     6fzt   \n",
       "4  APgVoGr  LM8l689qOp     NaN     NaN    kwS7  02N6s8f   \n",
       "\n",
       "                   Var228  Var229  Var230  class  \n",
       "0           ib5G6X1eUxUn6     NaN     NaN      0  \n",
       "1           F2FyR07IdsN7I     NaN     NaN      0  \n",
       "2           F2FyR07IdsN7I    am7c     NaN      0  \n",
       "3  SbOd7O8ky1wGNxp0Arj0Xs     NaN     NaN      0  \n",
       "4           xwM2aC7IdeMC0     NaN     NaN      0  \n",
       "\n",
       "[5 rows x 231 columns]"
      ]
     },
     "execution_count": 89,
     "metadata": {},
     "output_type": "execute_result"
    }
   ],
   "source": [
    "df = pd.read_csv('../data/train.txt', sep=' ')\n",
    "df = df.reset_index(drop=True)\n",
    "print(f'Columns: {len(df.columns)}')\n",
    "df.head()"
   ]
  },
  {
   "cell_type": "code",
   "execution_count": 90,
   "metadata": {},
   "outputs": [],
   "source": [
    "data_json= {}"
   ]
  },
  {
   "cell_type": "code",
   "execution_count": 91,
   "metadata": {},
   "outputs": [],
   "source": [
    "max_categories = 2000\n",
    "fit_na_threshold = 0.1\n",
    "fill_na_threshold = 0.5"
   ]
  },
  {
   "cell_type": "code",
   "execution_count": 92,
   "metadata": {},
   "outputs": [
    {
     "name": "stdout",
     "output_type": "stream",
     "text": [
      "Columns: 213, 213\n"
     ]
    }
   ],
   "source": [
    "train_df, test_df = train_test_split(df, test_size=0.3)\n",
    "train_df = train_df.reset_index(drop=True)\n",
    "test_df = test_df.reset_index(drop=True)\n",
    "na_cols = train_df.columns[train_df.isna().all()].tolist()\n",
    "train_df = train_df.drop(na_cols, axis=1)\n",
    "test_df = test_df.drop(na_cols, axis=1)\n",
    "data_json['na_columns'] = na_cols\n",
    "print(f'Columns: {len(train_df.columns)}, {len(test_df.columns)}')"
   ]
  },
  {
   "cell_type": "code",
   "execution_count": 93,
   "metadata": {},
   "outputs": [
    {
     "data": {
      "text/plain": [
       "(28000, 12000, True)"
      ]
     },
     "execution_count": 93,
     "metadata": {},
     "output_type": "execute_result"
    }
   ],
   "source": [
    "len(train_df), len(test_df), all(train_df.columns == test_df.columns)"
   ]
  },
  {
   "cell_type": "markdown",
   "metadata": {},
   "source": [
    "### Drop NA columns"
   ]
  },
  {
   "cell_type": "code",
   "execution_count": 94,
   "metadata": {},
   "outputs": [
    {
     "name": "stdout",
     "output_type": "stream",
     "text": [
      "Columns: 213, 213\n"
     ]
    }
   ],
   "source": [
    "na_cols = train_df.columns[train_df.isna().all()].tolist()\n",
    "train_df = train_df.drop(na_cols, axis=1)\n",
    "test_df = test_df.drop(na_cols, axis=1)\n",
    "data_json['na_columns'] = na_cols\n",
    "print(f'Columns: {len(train_df.columns)}, {len(test_df.columns)}')"
   ]
  },
  {
   "cell_type": "markdown",
   "metadata": {},
   "source": [
    "### Find categorical columns\n"
   ]
  },
  {
   "cell_type": "code",
   "execution_count": 95,
   "metadata": {},
   "outputs": [
    {
     "name": "stdout",
     "output_type": "stream",
     "text": [
      "Columns: 205, 205\n"
     ]
    }
   ],
   "source": [
    "cat_cols = train_df.select_dtypes(object).columns.tolist()  # categorical columns\n",
    "unique_values = sorted([(col_name, len(train_df[col_name].unique())) for col_name in cat_cols], key=lambda x: x[1])\n",
    "chosen_cat_cols = [v[0] for v in unique_values if v[1] < max_categories]  # cat columns with less than MAX_CAT unique cats\n",
    "many_cat_cols = list(set(cat_cols) - set(chosen_cat_cols))  # cat columns with more than MAX_CAT unique cats\n",
    "train_df = train_df.drop(many_cat_cols, axis=1)\n",
    "test_df = test_df.drop(many_cat_cols, axis=1)\n",
    "data_json['category_columns'] = unique_values\n",
    "\n",
    "# encoder = ce.OrdinalEncoder(cols=chosen_cat_cols)\n",
    "# encoder.fit(train_df)\n",
    "# train_df = encoder.transform(train_df)\n",
    "# test_df = encoder.transform(test_df)\n",
    "\n",
    "encoder = ce.TargetEncoder(cols=chosen_cat_cols, smoothing=300)\n",
    "encoder.fit(train_df, train_df.loc[:, 'class'])\n",
    "train_df = encoder.transform(train_df)\n",
    "test_df = encoder.transform(test_df)\n",
    "\n",
    "\n",
    "print(f'Columns: {len(train_df.columns)}, {len(test_df.columns)}')"
   ]
  },
  {
   "cell_type": "markdown",
   "metadata": {},
   "source": [
    "### Columns which may be used for fitting"
   ]
  },
  {
   "cell_type": "code",
   "execution_count": 96,
   "metadata": {},
   "outputs": [],
   "source": [
    "data_json['na_percent'] = sorted(train_df.isna().mean().to_dict().items(), key=lambda x: x[1])"
   ]
  },
  {
   "cell_type": "code",
   "execution_count": 97,
   "metadata": {},
   "outputs": [
    {
     "name": "stdout",
     "output_type": "stream",
     "text": [
      "34\n"
     ]
    }
   ],
   "source": [
    "fit_cols = train_df.columns[train_df.isna().mean() < fit_na_threshold].tolist()\n",
    "fit_cols = list(set(fit_cols).union(set(chosen_cat_cols)))\n",
    "print(len(fit_cols))"
   ]
  },
  {
   "cell_type": "markdown",
   "metadata": {},
   "source": [
    "### Other columns with more than ?% NA "
   ]
  },
  {
   "cell_type": "code",
   "execution_count": 98,
   "metadata": {},
   "outputs": [],
   "source": [
    "# na_cols = train_df.columns[train_df.isna().mean() > fill_na_threshold]\n",
    "# train_df = train_df.drop(na_cols, axis=1)\n",
    "# test_df = test_df.drop(na_cols, axis=1)\n",
    "# print(f'Columns: {len(train_df.columns)}')"
   ]
  },
  {
   "cell_type": "code",
   "execution_count": 99,
   "metadata": {},
   "outputs": [
    {
     "name": "stdout",
     "output_type": "stream",
     "text": [
      "To fill columns: 72\n"
     ]
    }
   ],
   "source": [
    "to_fill_cols = train_df.columns[train_df.isna().mean() < fill_na_threshold]\n",
    "# to_fill_cols = set(to_fill_cols) - set(fit_cols)\n",
    "# to_fill_cols = set(df.columns) - set(fit_cols)\n",
    "print(f'To fill columns: {len(to_fill_cols)}')"
   ]
  },
  {
   "cell_type": "markdown",
   "metadata": {},
   "source": [
    "### Testing fillers"
   ]
  },
  {
   "cell_type": "code",
   "execution_count": 100,
   "metadata": {},
   "outputs": [
    {
     "data": {
      "application/vnd.jupyter.widget-view+json": {
       "model_id": "10ee1b736bed4289a6821fe79ad692de",
       "version_major": 2,
       "version_minor": 0
      },
      "text/plain": [
       "HBox(children=(IntProgress(value=0, max=72), HTML(value='')))"
      ]
     },
     "metadata": {},
     "output_type": "display_data"
    },
    {
     "name": "stdout",
     "output_type": "stream",
     "text": [
      "\n"
     ]
    }
   ],
   "source": [
    "scores = {}\n",
    "\n",
    "for fill_col in tqdm(to_fill_cols):\n",
    "    non_na_idx = ~train_df[fill_col].isna()\n",
    "    tmp_fit_cols = ~train_df[fit_cols].columns.isin([fill_col, 'class'])\n",
    "    # model =  lgb.sklearn.LGBMRegressor(n_estimators=200)\n",
    "    # model = cb.CatBoostRegressor(iterations=300, task_type=\"GPU\", logging_level='Silent')\n",
    "    model = xgb.sklearn.XGBRegressor(n_estimators=100, n_jobs=-1)\n",
    "    X = train_df.loc[non_na_idx, tmp_fit_cols]\n",
    "    y = train_df.loc[non_na_idx, fill_col]\n",
    "    train_X, test_X, train_y, test_y = train_test_split(X, y, test_size=0.2)\n",
    "    train_X.reset_index(drop=True), train_y.reset_index(drop=True) \n",
    "    test_X.reset_index(drop=True), test_y.reset_index(drop=True) \n",
    "    model.fit(train_X, train_y) #, categorical_feature=chosen_cat_cols)\n",
    "    pred_y = model.predict(test_X)\n",
    "    score = explained_variance_score(test_y, pred_y)\n",
    "    scores[fill_col] = score"
   ]
  },
  {
   "cell_type": "code",
   "execution_count": 101,
   "metadata": {},
   "outputs": [
    {
     "data": {
      "text/plain": [
       "[('Var74', -7.8203801428132085),\n",
       " ('Var44', -0.04849636220187015),\n",
       " ('Var143', -0.02752007606228446),\n",
       " ('Var173', -0.00906780344427216),\n",
       " ('Var196', -0.008266437549029781),\n",
       " ('Var57', -0.0021810325874314085),\n",
       " ('Var195', -0.0011698509113944322),\n",
       " ('Var208', 0.0),\n",
       " ('Var219', 6.255427256696144e-05),\n",
       " ('Var203', 0.00012221435247827817),\n",
       " ('Var205', 0.0002705952016610613),\n",
       " ('Var94', 0.007203802202929044),\n",
       " ('Var197', 0.011500012042159002),\n",
       " ('Var218', 0.019853549152461736),\n",
       " ('Var125', 0.019856466283390328),\n",
       " ('class', 0.032587289664636754),\n",
       " ('Var221', 0.03853017690054217),\n",
       " ('Var192', 0.04552200245153726),\n",
       " ('Var207', 0.04553573700778324),\n",
       " ('Var204', 0.04700375619945585),\n",
       " ('Var227', 0.058434971799780744),\n",
       " ('Var223', 0.07768010663099334),\n",
       " ('Var78', 0.09075889986908381),\n",
       " ('Var126', 0.11395548167507963),\n",
       " ('Var181', 0.12635013465367018),\n",
       " ('Var226', 0.12776618463453826),\n",
       " ('Var193', 0.131940896305893),\n",
       " ('Var211', 0.13592954205037233),\n",
       " ('Var228', 0.13849800336122864),\n",
       " ('Var212', 0.14603572781432816),\n",
       " ('Var201', 0.15742209855387712),\n",
       " ('Var194', 0.1790847912063548),\n",
       " ('Var225', 0.17933519070437298),\n",
       " ('Var206', 0.20025155122989868),\n",
       " ('Var140', 0.21482764121958342),\n",
       " ('Var216', 0.24073701570880313),\n",
       " ('Var144', 0.2532929076436846),\n",
       " ('Var210', 0.28242368601233736),\n",
       " ('Var163', 0.2934284402063424),\n",
       " ('Var229', 0.3418113154621363),\n",
       " ('Var76', 0.381120795907936),\n",
       " ('Var132', 0.413601246512292),\n",
       " ('Var113', 0.4327658858545923),\n",
       " ('Var65', 0.5057777649243137),\n",
       " ('Var72', 0.5083396022933502),\n",
       " ('Var73', 0.5270180483247827),\n",
       " ('Var109', 0.5510199512792838),\n",
       " ('Var133', 0.5817457312054632),\n",
       " ('Var134', 0.6001734719391494),\n",
       " ('Var149', 0.6095212089686985),\n",
       " ('Var81', 0.6742658485652735),\n",
       " ('Var85', 0.7145674251449967),\n",
       " ('Var123', 0.7147482517748838),\n",
       " ('Var224', 0.7323465055210986),\n",
       " ('Var191', 0.7411442510040951),\n",
       " ('Var112', 0.7895695387443026),\n",
       " ('Var83', 0.7983449064292688),\n",
       " ('Var119', 0.8044593858339616),\n",
       " ('Var153', 0.8051570901748951),\n",
       " ('Var160', 0.8899577606729757),\n",
       " ('Var213', 0.9312047624980029),\n",
       " ('Var215', 0.9882352437014551),\n",
       " ('Var28', 0.9921426720216665),\n",
       " ('Var13', 0.9928011140545603),\n",
       " ('Var35', 0.9985514302786139),\n",
       " ('Var21', 0.998672066191786),\n",
       " ('Var22', 0.9987295999045528),\n",
       " ('Var24', 0.999085520061015),\n",
       " ('Var6', 0.9995751781052798),\n",
       " ('Var25', 0.9997213423833883),\n",
       " ('Var38', 0.9999451039083337),\n",
       " ('Var7', 0.9999999958167733)]"
      ]
     },
     "execution_count": 101,
     "metadata": {},
     "output_type": "execute_result"
    }
   ],
   "source": [
    "sorted(scores.items(), key=lambda x: x[1])"
   ]
  },
  {
   "cell_type": "code",
   "execution_count": 102,
   "metadata": {},
   "outputs": [],
   "source": [
    "chosen_to_fill = [k for k in scores if scores[k] > 0.8]\n",
    "rest = [k for k in scores if scores[k] < 0.8]"
   ]
  },
  {
   "cell_type": "code",
   "execution_count": 103,
   "metadata": {},
   "outputs": [
    {
     "data": {
      "text/plain": [
       "(34, 57, 15, 205, 205)"
      ]
     },
     "execution_count": 103,
     "metadata": {},
     "output_type": "execute_result"
    }
   ],
   "source": [
    "len(fit_cols), len(rest), len(chosen_to_fill), len(train_df.columns), len(test_df.columns)"
   ]
  },
  {
   "cell_type": "code",
   "execution_count": 104,
   "metadata": {},
   "outputs": [
    {
     "data": {
      "text/html": [
       "<div>\n",
       "<style scoped>\n",
       "    .dataframe tbody tr th:only-of-type {\n",
       "        vertical-align: middle;\n",
       "    }\n",
       "\n",
       "    .dataframe tbody tr th {\n",
       "        vertical-align: top;\n",
       "    }\n",
       "\n",
       "    .dataframe thead th {\n",
       "        text-align: right;\n",
       "    }\n",
       "</style>\n",
       "<table border=\"1\" class=\"dataframe\">\n",
       "  <thead>\n",
       "    <tr style=\"text-align: right;\">\n",
       "      <th></th>\n",
       "      <th>Var6</th>\n",
       "      <th>Var7</th>\n",
       "      <th>Var13</th>\n",
       "      <th>Var21</th>\n",
       "      <th>Var22</th>\n",
       "      <th>Var24</th>\n",
       "      <th>Var25</th>\n",
       "      <th>Var28</th>\n",
       "      <th>Var35</th>\n",
       "      <th>Var38</th>\n",
       "      <th>Var119</th>\n",
       "      <th>Var153</th>\n",
       "      <th>Var160</th>\n",
       "      <th>Var213</th>\n",
       "      <th>Var215</th>\n",
       "    </tr>\n",
       "  </thead>\n",
       "  <tbody>\n",
       "    <tr>\n",
       "      <th>count</th>\n",
       "      <td>24834.000000</td>\n",
       "      <td>24824.000000</td>\n",
       "      <td>24824.000000</td>\n",
       "      <td>24834.000000</td>\n",
       "      <td>25116.000000</td>\n",
       "      <td>23896.000000</td>\n",
       "      <td>25116.000000</td>\n",
       "      <td>25114.000000</td>\n",
       "      <td>25116.000000</td>\n",
       "      <td>2.511600e+04</td>\n",
       "      <td>24834.000000</td>\n",
       "      <td>2.511600e+04</td>\n",
       "      <td>25116.00000</td>\n",
       "      <td>28000.000000</td>\n",
       "      <td>28000.000000</td>\n",
       "    </tr>\n",
       "    <tr>\n",
       "      <th>mean</th>\n",
       "      <td>1307.633486</td>\n",
       "      <td>6.816710</td>\n",
       "      <td>1251.285530</td>\n",
       "      <td>231.091568</td>\n",
       "      <td>285.933867</td>\n",
       "      <td>4.428356</td>\n",
       "      <td>95.799331</td>\n",
       "      <td>223.469824</td>\n",
       "      <td>0.727027</td>\n",
       "      <td>2.553521e+06</td>\n",
       "      <td>898.884996</td>\n",
       "      <td>6.140802e+06</td>\n",
       "      <td>38.45477</td>\n",
       "      <td>0.072797</td>\n",
       "      <td>0.072658</td>\n",
       "    </tr>\n",
       "    <tr>\n",
       "      <th>std</th>\n",
       "      <td>2568.988161</td>\n",
       "      <td>6.319764</td>\n",
       "      <td>2920.999731</td>\n",
       "      <td>528.492834</td>\n",
       "      <td>657.521844</td>\n",
       "      <td>9.492922</td>\n",
       "      <td>197.306871</td>\n",
       "      <td>94.987921</td>\n",
       "      <td>3.042433</td>\n",
       "      <td>3.016627e+06</td>\n",
       "      <td>2004.275881</td>\n",
       "      <td>4.349993e+06</td>\n",
       "      <td>94.54411</td>\n",
       "      <td>0.002007</td>\n",
       "      <td>0.003644</td>\n",
       "    </tr>\n",
       "    <tr>\n",
       "      <th>min</th>\n",
       "      <td>0.000000</td>\n",
       "      <td>0.000000</td>\n",
       "      <td>0.000000</td>\n",
       "      <td>0.000000</td>\n",
       "      <td>0.000000</td>\n",
       "      <td>0.000000</td>\n",
       "      <td>0.000000</td>\n",
       "      <td>-46.800000</td>\n",
       "      <td>0.000000</td>\n",
       "      <td>0.000000e+00</td>\n",
       "      <td>0.000000</td>\n",
       "      <td>0.000000e+00</td>\n",
       "      <td>0.00000</td>\n",
       "      <td>0.059801</td>\n",
       "      <td>0.043131</td>\n",
       "    </tr>\n",
       "    <tr>\n",
       "      <th>25%</th>\n",
       "      <td>518.000000</td>\n",
       "      <td>0.000000</td>\n",
       "      <td>0.000000</td>\n",
       "      <td>112.000000</td>\n",
       "      <td>135.000000</td>\n",
       "      <td>0.000000</td>\n",
       "      <td>16.000000</td>\n",
       "      <td>166.560000</td>\n",
       "      <td>0.000000</td>\n",
       "      <td>7.444500e+03</td>\n",
       "      <td>425.000000</td>\n",
       "      <td>1.224142e+06</td>\n",
       "      <td>10.00000</td>\n",
       "      <td>0.073107</td>\n",
       "      <td>0.073107</td>\n",
       "    </tr>\n",
       "    <tr>\n",
       "      <th>50%</th>\n",
       "      <td>854.000000</td>\n",
       "      <td>7.000000</td>\n",
       "      <td>232.000000</td>\n",
       "      <td>144.000000</td>\n",
       "      <td>180.000000</td>\n",
       "      <td>2.000000</td>\n",
       "      <td>48.000000</td>\n",
       "      <td>220.080000</td>\n",
       "      <td>0.000000</td>\n",
       "      <td>1.184787e+06</td>\n",
       "      <td>560.000000</td>\n",
       "      <td>7.970520e+06</td>\n",
       "      <td>22.00000</td>\n",
       "      <td>0.073107</td>\n",
       "      <td>0.073107</td>\n",
       "    </tr>\n",
       "    <tr>\n",
       "      <th>75%</th>\n",
       "      <td>1421.000000</td>\n",
       "      <td>7.000000</td>\n",
       "      <td>1612.000000</td>\n",
       "      <td>228.000000</td>\n",
       "      <td>285.000000</td>\n",
       "      <td>6.000000</td>\n",
       "      <td>120.000000</td>\n",
       "      <td>265.760000</td>\n",
       "      <td>0.000000</td>\n",
       "      <td>4.522248e+06</td>\n",
       "      <td>895.000000</td>\n",
       "      <td>1.037153e+07</td>\n",
       "      <td>42.00000</td>\n",
       "      <td>0.073107</td>\n",
       "      <td>0.073107</td>\n",
       "    </tr>\n",
       "    <tr>\n",
       "      <th>max</th>\n",
       "      <td>131761.000000</td>\n",
       "      <td>140.000000</td>\n",
       "      <td>197872.000000</td>\n",
       "      <td>24940.000000</td>\n",
       "      <td>31175.000000</td>\n",
       "      <td>494.000000</td>\n",
       "      <td>7432.000000</td>\n",
       "      <td>3071.680000</td>\n",
       "      <td>110.000000</td>\n",
       "      <td>1.884690e+07</td>\n",
       "      <td>105060.000000</td>\n",
       "      <td>1.387516e+07</td>\n",
       "      <td>4030.00000</td>\n",
       "      <td>0.073107</td>\n",
       "      <td>0.073107</td>\n",
       "    </tr>\n",
       "  </tbody>\n",
       "</table>\n",
       "</div>"
      ],
      "text/plain": [
       "                Var6          Var7          Var13         Var21         Var22  \\\n",
       "count   24834.000000  24824.000000   24824.000000  24834.000000  25116.000000   \n",
       "mean     1307.633486      6.816710    1251.285530    231.091568    285.933867   \n",
       "std      2568.988161      6.319764    2920.999731    528.492834    657.521844   \n",
       "min         0.000000      0.000000       0.000000      0.000000      0.000000   \n",
       "25%       518.000000      0.000000       0.000000    112.000000    135.000000   \n",
       "50%       854.000000      7.000000     232.000000    144.000000    180.000000   \n",
       "75%      1421.000000      7.000000    1612.000000    228.000000    285.000000   \n",
       "max    131761.000000    140.000000  197872.000000  24940.000000  31175.000000   \n",
       "\n",
       "              Var24         Var25         Var28         Var35         Var38  \\\n",
       "count  23896.000000  25116.000000  25114.000000  25116.000000  2.511600e+04   \n",
       "mean       4.428356     95.799331    223.469824      0.727027  2.553521e+06   \n",
       "std        9.492922    197.306871     94.987921      3.042433  3.016627e+06   \n",
       "min        0.000000      0.000000    -46.800000      0.000000  0.000000e+00   \n",
       "25%        0.000000     16.000000    166.560000      0.000000  7.444500e+03   \n",
       "50%        2.000000     48.000000    220.080000      0.000000  1.184787e+06   \n",
       "75%        6.000000    120.000000    265.760000      0.000000  4.522248e+06   \n",
       "max      494.000000   7432.000000   3071.680000    110.000000  1.884690e+07   \n",
       "\n",
       "              Var119        Var153       Var160        Var213        Var215  \n",
       "count   24834.000000  2.511600e+04  25116.00000  28000.000000  28000.000000  \n",
       "mean      898.884996  6.140802e+06     38.45477      0.072797      0.072658  \n",
       "std      2004.275881  4.349993e+06     94.54411      0.002007      0.003644  \n",
       "min         0.000000  0.000000e+00      0.00000      0.059801      0.043131  \n",
       "25%       425.000000  1.224142e+06     10.00000      0.073107      0.073107  \n",
       "50%       560.000000  7.970520e+06     22.00000      0.073107      0.073107  \n",
       "75%       895.000000  1.037153e+07     42.00000      0.073107      0.073107  \n",
       "max    105060.000000  1.387516e+07   4030.00000      0.073107      0.073107  "
      ]
     },
     "execution_count": 104,
     "metadata": {},
     "output_type": "execute_result"
    }
   ],
   "source": [
    "train_df[chosen_to_fill].describe()"
   ]
  },
  {
   "cell_type": "code",
   "execution_count": 105,
   "metadata": {},
   "outputs": [
    {
     "data": {
      "application/vnd.jupyter.widget-view+json": {
       "model_id": "a8529309c0a74f10943f45fb0d4e9757",
       "version_major": 2,
       "version_minor": 0
      },
      "text/plain": [
       "HBox(children=(IntProgress(value=0, max=15), HTML(value='')))"
      ]
     },
     "metadata": {},
     "output_type": "display_data"
    },
    {
     "name": "stdout",
     "output_type": "stream",
     "text": [
      "\n"
     ]
    }
   ],
   "source": [
    "for fill_col in tqdm(chosen_to_fill):\n",
    "    non_na_idx = ~train_df[fill_col].isna()\n",
    "    tmp_fit_cols = ~train_df[fit_cols].columns.isin([fill_col, 'class'])\n",
    "    model = xgb.sklearn.XGBRegressor(n_estimators=100, n_jobs=-1)\n",
    "    # model =  lgb.sklearn.LGBMRegressor(n_estimators=200)\n",
    "    train_X = train_df.loc[non_na_idx, tmp_fit_cols]\n",
    "    train_y = train_df.loc[non_na_idx, fill_col]\n",
    "    model.fit(train_X, train_y) #, categorical_feature=chosen_cat_cols)\n",
    "    pred_X = train_df.loc[:, tmp_fit_cols]\n",
    "    pred_y = model.predict(pred_X)\n",
    "    train_df.loc[:, fill_col] = train_df.loc[:, fill_col].fillna(pd.Series(pred_y))\n",
    "    pred_X = test_df.loc[:, tmp_fit_cols]\n",
    "    pred_y = model.predict(pred_X)\n",
    "    test_df.loc[:, fill_col] = test_df.loc[:, fill_col].fillna(pd.Series(pred_y))"
   ]
  },
  {
   "cell_type": "code",
   "execution_count": 106,
   "metadata": {},
   "outputs": [
    {
     "data": {
      "text/plain": [
       "Var6      0.0\n",
       "Var7      0.0\n",
       "Var13     0.0\n",
       "Var21     0.0\n",
       "Var22     0.0\n",
       "Var24     0.0\n",
       "Var25     0.0\n",
       "Var28     0.0\n",
       "Var35     0.0\n",
       "Var38     0.0\n",
       "Var119    0.0\n",
       "Var153    0.0\n",
       "Var160    0.0\n",
       "Var213    0.0\n",
       "Var215    0.0\n",
       "dtype: float64"
      ]
     },
     "execution_count": 106,
     "metadata": {},
     "output_type": "execute_result"
    }
   ],
   "source": [
    "train_df.loc[:, chosen_to_fill].isna().mean()"
   ]
  },
  {
   "cell_type": "code",
   "execution_count": 115,
   "metadata": {},
   "outputs": [],
   "source": [
    "means = train_df.loc[:, rest].mean()\n",
    "train_df.loc[:, rest] = train_df.loc[:, rest].fillna(means)\n",
    "test_df.loc[:, rest] = test_df.loc[:, rest].fillna(means)"
   ]
  },
  {
   "cell_type": "code",
   "execution_count": 108,
   "metadata": {},
   "outputs": [
    {
     "data": {
      "text/plain": [
       "205"
      ]
     },
     "execution_count": 108,
     "metadata": {},
     "output_type": "execute_result"
    }
   ],
   "source": [
    "len(train_df.columns)"
   ]
  },
  {
   "cell_type": "code",
   "execution_count": 109,
   "metadata": {},
   "outputs": [],
   "source": [
    "# df.to_csv('../data/features.csv', index=False)"
   ]
  },
  {
   "cell_type": "markdown",
   "metadata": {},
   "source": [
    "# PART II"
   ]
  },
  {
   "cell_type": "code",
   "execution_count": 110,
   "metadata": {},
   "outputs": [],
   "source": [
    "# df = pd.read_csv('../data/features.csv')"
   ]
  },
  {
   "cell_type": "code",
   "execution_count": 111,
   "metadata": {},
   "outputs": [],
   "source": [
    "# len(df.columns)"
   ]
  },
  {
   "cell_type": "code",
   "execution_count": 116,
   "metadata": {},
   "outputs": [],
   "source": [
    "train_X = train_df.drop('class', axis=1)\n",
    "train_y = train_df['class']\n",
    "\n",
    "test_X = test_df.drop('class', axis=1)\n",
    "test_y = test_df['class']"
   ]
  },
  {
   "cell_type": "code",
   "execution_count": 86,
   "metadata": {},
   "outputs": [
    {
     "data": {
      "text/plain": [
       "<catboost.core.CatBoostClassifier at 0x7fc6468ce160>"
      ]
     },
     "execution_count": 86,
     "metadata": {},
     "output_type": "execute_result"
    }
   ],
   "source": [
    "# model = cb.CatBoostClassifier(iterations=1000, depth=8, eval_metric=\"AUC\", task_type='GPU', logging_level='Silent', l2_leaf_reg=6)\n",
    "# model.fit(train_X, train_y, cat_features=chosen_cat_cols)\n",
    "\n",
    "# model = lgb.sklearn.LGBMClassifier()\n",
    "# model.fit(train_X, train_y, categorical_feature=chosen_cat_cols) \n",
    "\n",
    "# model = xgb.sklearn.XGBClassifier(n_estimators=100)\n",
    "# model.fit(train_X, train_y)\n"
   ]
  },
  {
   "cell_type": "code",
   "execution_count": 117,
   "metadata": {},
   "outputs": [
    {
     "data": {
      "text/plain": [
       "XGBClassifier(base_score=0.5, booster='gbtree', colsample_bylevel=1,\n",
       "       colsample_bytree=1, gamma=0, learning_rate=0.1, max_delta_step=0,\n",
       "       max_depth=3, min_child_weight=1, missing=None, n_estimators=100,\n",
       "       n_jobs=1, nthread=None, objective='binary:logistic', random_state=0,\n",
       "       reg_alpha=0, reg_lambda=3, scale_pos_weight=1, seed=None,\n",
       "       silent=True, subsample=1)"
      ]
     },
     "execution_count": 117,
     "metadata": {},
     "output_type": "execute_result"
    }
   ],
   "source": [
    "model = xgb.sklearn.XGBClassifier(learning_rate=0.1, max_depth=3, n_estimators=100, reg_lambda=3)\n",
    "model.fit(train_X, train_y)"
   ]
  },
  {
   "cell_type": "code",
   "execution_count": 118,
   "metadata": {},
   "outputs": [
    {
     "data": {
      "text/plain": [
       "(0.39666666666666667, 0.8490104964675271)"
      ]
     },
     "execution_count": 118,
     "metadata": {},
     "output_type": "execute_result"
    }
   ],
   "source": [
    "def custom_score(y_true, y_pred):\n",
    "    ind = np.argsort(y_pred)[::-1]\n",
    "    check_size = int(np.ceil(0.1 * len(y_true)))\n",
    "    y_true = y_true[ind][:check_size]\n",
    "    return np.mean(y_true)\n",
    "\n",
    "y_preds_proba = model.predict_proba(test_X)[:,1]\n",
    "c_score = custom_score(test_y, y_preds_proba)\n",
    "auc = roc_auc_score(test_y, y_preds_proba)\n",
    "c_score, auc"
   ]
  },
  {
   "cell_type": "code",
   "execution_count": 23,
   "metadata": {},
   "outputs": [
    {
     "data": {
      "text/plain": [
       "97.18913484805886"
      ]
     },
     "execution_count": 23,
     "metadata": {},
     "output_type": "execute_result"
    }
   ],
   "source": [
    "idx = np.argsort(model.feature_importances_)[::-1][:64]\n",
    "best_features = np.array(model.feature_names_)[idx]\n",
    "np.sum(model.feature_importances_[idx])"
   ]
  },
  {
   "cell_type": "code",
   "execution_count": 24,
   "metadata": {},
   "outputs": [
    {
     "data": {
      "text/plain": [
       "<catboost.core.CatBoostClassifier at 0x7f67f22d7160>"
      ]
     },
     "execution_count": 24,
     "metadata": {},
     "output_type": "execute_result"
    }
   ],
   "source": [
    "model = cb.CatBoostClassifier(iterations=1000, depth=8, eval_metric=\"AUC\", task_type='GPU', logging_level='Silent', l2_leaf_reg=3)\n",
    "                             # one_hot_max_size=32)\n",
    "model.fit(train_X[best_features], train_y, cat_features=set(chosen_cat_cols).intersection(set(best_features)))"
   ]
  },
  {
   "cell_type": "code",
   "execution_count": 25,
   "metadata": {},
   "outputs": [
    {
     "data": {
      "text/plain": [
       "(0.41, 0.869078457125441)"
      ]
     },
     "execution_count": 25,
     "metadata": {},
     "output_type": "execute_result"
    }
   ],
   "source": [
    "y_preds_proba = model.predict_proba(test_X[best_features])[:,1]\n",
    "c_score = custom_score(test_y.values, y_preds_proba)\n",
    "auc = roc_auc_score(test_y.values, y_preds_proba)\n",
    "c_score, auc"
   ]
  },
  {
   "cell_type": "code",
   "execution_count": 63,
   "metadata": {},
   "outputs": [],
   "source": [
    "# model = cb.CatBoostClassifier(iterations=500, task_type='GPU', logging_level='Silent')\n",
    "model = RandomForestRegressor()\n",
    "scorers = {\n",
    "    'custom': make_scorer(custom_score, greater_is_better=True, needs_proba=True),\n",
    "    'roc_auc': make_scorer(roc_auc_score, greater_is_better=True, needs_proba=True),\n",
    "}\n",
    "scores = cross_validate(model, X, y, scoring=scorers, cv=3)"
   ]
  },
  {
   "cell_type": "code",
   "execution_count": 64,
   "metadata": {},
   "outputs": [
    {
     "name": "stderr",
     "output_type": "stream",
     "text": [
      "/home/bartek/Workspace/venvs/myenv/lib/python3.7/site-packages/sklearn/utils/deprecation.py:125: FutureWarning: You are accessing a training score ('train_custom'), which will not be available by default any more in 0.21. If you need training scores, please set return_train_score=True\n",
      "  warnings.warn(*warn_args, **warn_kwargs)\n",
      "/home/bartek/Workspace/venvs/myenv/lib/python3.7/site-packages/sklearn/utils/deprecation.py:125: FutureWarning: You are accessing a training score ('train_roc_auc'), which will not be available by default any more in 0.21. If you need training scores, please set return_train_score=True\n",
      "  warnings.warn(*warn_args, **warn_kwargs)\n"
     ]
    },
    {
     "data": {
      "text/plain": [
       "{'fit_time': array([30.34519362, 29.9092176 , 29.61446047]),\n",
       " 'score_time': array([0.22051287, 0.21404934, 0.22123337]),\n",
       " 'test_custom': array([0.42728636, 0.39130435, 0.39805097]),\n",
       " 'train_custom': array([0.57030371, 0.54105737, 0.56730409]),\n",
       " 'test_roc_auc': array([0.87386933, 0.85345332, 0.85991854]),\n",
       " 'train_roc_auc': array([0.94899372, 0.93676128, 0.94856453])}"
      ]
     },
     "execution_count": 64,
     "metadata": {},
     "output_type": "execute_result"
    }
   ],
   "source": [
    "scores"
   ]
  }
 ],
 "metadata": {
  "kernelspec": {
   "display_name": "Python 3",
   "language": "python",
   "name": "python3"
  },
  "language_info": {
   "codemirror_mode": {
    "name": "ipython",
    "version": 3
   },
   "file_extension": ".py",
   "mimetype": "text/x-python",
   "name": "python",
   "nbconvert_exporter": "python",
   "pygments_lexer": "ipython3",
   "version": "3.7.3"
  }
 },
 "nbformat": 4,
 "nbformat_minor": 2
}
