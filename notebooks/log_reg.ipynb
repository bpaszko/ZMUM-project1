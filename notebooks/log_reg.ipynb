{
 "cells": [
  {
   "cell_type": "markdown",
   "metadata": {},
   "source": [
    "# Logistic regression + naive bayes"
   ]
  },
  {
   "cell_type": "code",
   "execution_count": 42,
   "metadata": {},
   "outputs": [],
   "source": [
    "import pandas as pd\n",
    "import numpy as np\n",
    "import category_encoders as ce\n",
    "import xgboost as xgb\n",
    "\n",
    "import sys\n",
    "import json\n",
    "\n",
    "from collections import defaultdict\n",
    "from tqdm import tqdm_notebook as tqdm\n",
    "\n",
    "from sklearn.metrics import precision_score, confusion_matrix, f1_score, make_scorer, explained_variance_score, roc_auc_score\n",
    "from sklearn.model_selection import train_test_split, cross_validate, GridSearchCV\n",
    "from sklearn.linear_model import LogisticRegression\n",
    "from sklearn.impute import SimpleImputer\n",
    "from sklearn.preprocessing import Normalizer, StandardScaler\n",
    "from sklearn.naive_bayes import GaussianNB"
   ]
  },
  {
   "cell_type": "code",
   "execution_count": 2,
   "metadata": {},
   "outputs": [],
   "source": [
    "class CatHandler:\n",
    "    encoders = {\n",
    "        'ordinal': ce.OrdinalEncoder,\n",
    "        'target': ce.TargetEncoder,\n",
    "        'one_hot': ce.OneHotEncoder,\n",
    "        'leave_one_out': ce.LeaveOneOutEncoder,\n",
    "    }\n",
    "    \n",
    "    def __init__(self, max_categories, params, encoder_type='ordinal'):\n",
    "        assert encoder_type in self.encoders.keys()\n",
    "        self._max_categories = max_categories\n",
    "        self._enc_type = encoder_type\n",
    "        self._params = params\n",
    "        self._encoder = None\n",
    "        \n",
    "    def fit(self, df, y=None):\n",
    "        cat_cols = df.select_dtypes(object).columns.tolist() + ['Var118', 'Var73']  # categorical columns\n",
    "        unique_values = sorted([(col_name, len(df[col_name].unique())) for col_name in cat_cols], key=lambda x: x[1])\n",
    "        self._chosen_cat_cols = [v[0] for v in unique_values if v[1] < self._max_categories]  # cat columns with less than MAX_CAT unique cats\n",
    "        self._many_cat_cols = list(set(cat_cols) - set(self._chosen_cat_cols))  # cat columns with more than MAX_CAT unique cats\n",
    "        \n",
    "        self._encoder = self.encoders[self._enc_type](cols=self._chosen_cat_cols, **self._params)\n",
    "        if self._enc_type in ['target', 'leave_one_out']:\n",
    "            assert not y is None\n",
    "            self._encoder.fit(df, y)\n",
    "        else:\n",
    "            self._encoder.fit(df)\n",
    "        \n",
    "    def transform(self, df, y):\n",
    "        assert not self._encoder is None\n",
    "        if self._enc_type in ['target', 'leave_one_out'] and not y is None:\n",
    "            df = self._encoder.transform(df, y)\n",
    "        else:\n",
    "            df = self._encoder.transform(df)\n",
    "        df = df.drop(self._many_cat_cols, axis=1)\n",
    "        return df\n",
    "\n",
    "    def fit_transform(self, df, y=None):\n",
    "        self.fit(df, y)\n",
    "        return self.transform(df, y)\n",
    "    \n",
    "    \n",
    "class MLNAFiller:\n",
    "    def __init__(self, fit_na_threshold, fill_na_threshold, strategy='mean', rest_strategy='drop'):\n",
    "        \"\"\"\n",
    "        fit_na_threshold: columns used for training\n",
    "        fill_na_threshold: columns which will be tried to fill with models\n",
    "        other_strategy: what to do with bad fills\n",
    "        \n",
    "        \"\"\"\n",
    "        assert fit_na_threshold < fill_na_threshold\n",
    "        assert strategy in ['mean', 'median', 'drop', 'leave']\n",
    "        assert rest_strategy in ['leave', 'drop']\n",
    "        self._fill_na_threshold = fill_na_threshold\n",
    "        self._fit_na_threshold = fit_na_threshold\n",
    "        self._inputer = None\n",
    "        self._strategy = strategy\n",
    "        self._rest_strategy = rest_strategy\n",
    "        if strategy in ['mean', 'median']:\n",
    "            self._inputer = SimpleImputer(strategy=strategy)\n",
    "        \n",
    "    def fit(self, df):     \n",
    "        self._fit_cols = df.columns[df.isna().mean() < self._fit_na_threshold].tolist()\n",
    "        to_fill_cols = df.columns[df.isna().mean() <= self._fill_na_threshold]\n",
    "        self._rest_cols = df.columns[df.isna().mean() > self._fill_na_threshold]\n",
    "        \n",
    "        scores = {}\n",
    "        for fill_col in tqdm(to_fill_cols, desc='Searching for best columns...'):\n",
    "            fit_cols = ~df[self._fit_cols].columns.isin([fill_col, 'class'])\n",
    "            non_na_idx = ~df[fill_col].isna()\n",
    "            model = xgb.sklearn.XGBRegressor(n_estimators=100, n_jobs=-1)\n",
    "            X = df.loc[non_na_idx, fit_cols]\n",
    "            y = df.loc[non_na_idx, fill_col]\n",
    "            train_X, test_X, train_y, test_y = train_test_split(X, y, test_size=0.2)\n",
    "            train_X.reset_index(drop=True), train_y.reset_index(drop=True) \n",
    "            test_X.reset_index(drop=True), test_y.reset_index(drop=True) \n",
    "            model.fit(train_X, train_y)\n",
    "            pred_y = model.predict(test_X)\n",
    "            score = explained_variance_score(test_y, pred_y)\n",
    "            scores[fill_col] = score\n",
    "            \n",
    "        chosen_to_fill = [k for k in scores if scores[k] >= 0.8]\n",
    "        self._inputer_cols = [k for k in scores if scores[k] < 0.8]\n",
    "        self._models = {}\n",
    "        \n",
    "        for fill_col in tqdm(chosen_to_fill, desc='Fitting for best columns...'):\n",
    "            fit_cols = ~df[self._fit_cols].columns.isin([fill_col, 'class'])\n",
    "            non_na_idx = ~df[fill_col].isna()\n",
    "            model = xgb.sklearn.XGBRegressor(n_estimators=100, n_jobs=-1)\n",
    "            train_X = df.loc[non_na_idx, fit_cols]\n",
    "            train_y = df.loc[non_na_idx, fill_col]\n",
    "            model.fit(train_X, train_y)\n",
    "            self._models[fill_col] = model\n",
    "            \n",
    "        if self._strategy in ['mean', 'median']:\n",
    "            self._inputer.fit(df[self._inputer_cols])\n",
    "    \n",
    "    def transform(self, df):\n",
    "        df = df.copy()\n",
    "            \n",
    "        for fill_col, model in tqdm(self._models.items()):\n",
    "            fit_cols = ~df[self._fit_cols].columns.isin([fill_col, 'class'])\n",
    "            pred_X = df.loc[:, fit_cols]\n",
    "            pred_y = model.predict(pred_X)\n",
    "            df.loc[:, fill_col] = df.loc[:, fill_col].fillna(pd.Series(pred_y))\n",
    "            \n",
    "        if self._strategy in ['mean', 'median']:\n",
    "            df[self._inputer_cols] = self._inputer.transform(df[self._inputer_cols])\n",
    "        elif self._strategy == 'drop':\n",
    "            df = df.drop(self._inputer_cols, axis=1)\n",
    "            \n",
    "        if self._rest_strategy == 'drop':\n",
    "            df = df.drop(self._rest_cols, axis=1)\n",
    "            \n",
    "        return df\n",
    "    \n",
    "    def fit_transform(self, df):\n",
    "        self.fit(df)\n",
    "        return self.transform(df)\n",
    "    \n",
    "    \n",
    "class Preprocessor:\n",
    "    def __init__(self, cat_handler, na_filler):\n",
    "        self.cat_handler = cat_handler\n",
    "        self.na_filler = na_filler\n",
    "        self.scaler = StandardScaler()\n",
    "        \n",
    "    def fit(self, df, y=None):\n",
    "        na_cols = df.columns[df.isna().all()].tolist()\n",
    "        df = df.drop(na_cols, axis=1)\n",
    "        self.na_cols = na_cols\n",
    "        \n",
    "        df = self.cat_handler.fit_transform(df, y)\n",
    "        non_normalize_cols = self.cat_handler._chosen_cat_cols\n",
    "        features = df.loc[:, ~df.columns.isin(non_normalize_cols)]\n",
    "        features_cols = features.columns\n",
    "        df.loc[:, ~df.columns.isin(non_normalize_cols)] = pd.DataFrame(self.scaler.fit_transform(features), columns=features_cols)\n",
    "        df = self.na_filler.fit(df)\n",
    "        \n",
    "    def transform(self, df, y=None):\n",
    "        df = df.drop(self.na_cols, axis=1)\n",
    "        df = self.cat_handler.transform(df, y)\n",
    "        non_normalize_cols = self.cat_handler._chosen_cat_cols\n",
    "        features = df.loc[:, ~df.columns.isin(non_normalize_cols)]\n",
    "        features_cols = features.columns\n",
    "        df.loc[:, ~df.columns.isin(non_normalize_cols)] = pd.DataFrame(self.scaler.transform(features), columns=features_cols)\n",
    "        df = self.na_filler.transform(df)\n",
    "        return df\n",
    "        \n",
    "    def fit_transform(self, df, y=None):\n",
    "        self.fit(df, y)\n",
    "        return self.transform(df, y)"
   ]
  },
  {
   "cell_type": "markdown",
   "metadata": {},
   "source": [
    "## Part 1 - filling means"
   ]
  },
  {
   "cell_type": "code",
   "execution_count": 3,
   "metadata": {},
   "outputs": [
    {
     "name": "stdout",
     "output_type": "stream",
     "text": [
      "Columns: 231\n"
     ]
    },
    {
     "data": {
      "text/html": [
       "<div>\n",
       "<style scoped>\n",
       "    .dataframe tbody tr th:only-of-type {\n",
       "        vertical-align: middle;\n",
       "    }\n",
       "\n",
       "    .dataframe tbody tr th {\n",
       "        vertical-align: top;\n",
       "    }\n",
       "\n",
       "    .dataframe thead th {\n",
       "        text-align: right;\n",
       "    }\n",
       "</style>\n",
       "<table border=\"1\" class=\"dataframe\">\n",
       "  <thead>\n",
       "    <tr style=\"text-align: right;\">\n",
       "      <th></th>\n",
       "      <th>Var1</th>\n",
       "      <th>Var2</th>\n",
       "      <th>Var3</th>\n",
       "      <th>Var4</th>\n",
       "      <th>Var5</th>\n",
       "      <th>Var6</th>\n",
       "      <th>Var7</th>\n",
       "      <th>Var8</th>\n",
       "      <th>Var9</th>\n",
       "      <th>Var10</th>\n",
       "      <th>...</th>\n",
       "      <th>Var222</th>\n",
       "      <th>Var223</th>\n",
       "      <th>Var224</th>\n",
       "      <th>Var225</th>\n",
       "      <th>Var226</th>\n",
       "      <th>Var227</th>\n",
       "      <th>Var228</th>\n",
       "      <th>Var229</th>\n",
       "      <th>Var230</th>\n",
       "      <th>class</th>\n",
       "    </tr>\n",
       "  </thead>\n",
       "  <tbody>\n",
       "    <tr>\n",
       "      <th>0</th>\n",
       "      <td>NaN</td>\n",
       "      <td>NaN</td>\n",
       "      <td>NaN</td>\n",
       "      <td>NaN</td>\n",
       "      <td>NaN</td>\n",
       "      <td>931.0</td>\n",
       "      <td>7.0</td>\n",
       "      <td>NaN</td>\n",
       "      <td>NaN</td>\n",
       "      <td>NaN</td>\n",
       "      <td>...</td>\n",
       "      <td>catzS2D</td>\n",
       "      <td>LM8l689qOp</td>\n",
       "      <td>NaN</td>\n",
       "      <td>ELof</td>\n",
       "      <td>szEZ</td>\n",
       "      <td>ZI9m</td>\n",
       "      <td>ib5G6X1eUxUn6</td>\n",
       "      <td>NaN</td>\n",
       "      <td>NaN</td>\n",
       "      <td>0</td>\n",
       "    </tr>\n",
       "    <tr>\n",
       "      <th>1</th>\n",
       "      <td>NaN</td>\n",
       "      <td>NaN</td>\n",
       "      <td>NaN</td>\n",
       "      <td>NaN</td>\n",
       "      <td>NaN</td>\n",
       "      <td>245.0</td>\n",
       "      <td>7.0</td>\n",
       "      <td>NaN</td>\n",
       "      <td>NaN</td>\n",
       "      <td>NaN</td>\n",
       "      <td>...</td>\n",
       "      <td>bTV7qqc</td>\n",
       "      <td>LM8l689qOp</td>\n",
       "      <td>NaN</td>\n",
       "      <td>NaN</td>\n",
       "      <td>fKCe</td>\n",
       "      <td>RAYp</td>\n",
       "      <td>F2FyR07IdsN7I</td>\n",
       "      <td>NaN</td>\n",
       "      <td>NaN</td>\n",
       "      <td>0</td>\n",
       "    </tr>\n",
       "    <tr>\n",
       "      <th>2</th>\n",
       "      <td>NaN</td>\n",
       "      <td>NaN</td>\n",
       "      <td>NaN</td>\n",
       "      <td>NaN</td>\n",
       "      <td>NaN</td>\n",
       "      <td>791.0</td>\n",
       "      <td>7.0</td>\n",
       "      <td>NaN</td>\n",
       "      <td>NaN</td>\n",
       "      <td>NaN</td>\n",
       "      <td>...</td>\n",
       "      <td>2JfQ3DB</td>\n",
       "      <td>jySVZNlOJy</td>\n",
       "      <td>NaN</td>\n",
       "      <td>ELof</td>\n",
       "      <td>7aLG</td>\n",
       "      <td>RAYp</td>\n",
       "      <td>F2FyR07IdsN7I</td>\n",
       "      <td>am7c</td>\n",
       "      <td>NaN</td>\n",
       "      <td>0</td>\n",
       "    </tr>\n",
       "    <tr>\n",
       "      <th>3</th>\n",
       "      <td>NaN</td>\n",
       "      <td>NaN</td>\n",
       "      <td>NaN</td>\n",
       "      <td>NaN</td>\n",
       "      <td>NaN</td>\n",
       "      <td>1036.0</td>\n",
       "      <td>7.0</td>\n",
       "      <td>NaN</td>\n",
       "      <td>NaN</td>\n",
       "      <td>NaN</td>\n",
       "      <td>...</td>\n",
       "      <td>hHJsvbM</td>\n",
       "      <td>LM8l689qOp</td>\n",
       "      <td>NaN</td>\n",
       "      <td>NaN</td>\n",
       "      <td>Qcbd</td>\n",
       "      <td>6fzt</td>\n",
       "      <td>SbOd7O8ky1wGNxp0Arj0Xs</td>\n",
       "      <td>NaN</td>\n",
       "      <td>NaN</td>\n",
       "      <td>0</td>\n",
       "    </tr>\n",
       "    <tr>\n",
       "      <th>4</th>\n",
       "      <td>NaN</td>\n",
       "      <td>NaN</td>\n",
       "      <td>NaN</td>\n",
       "      <td>NaN</td>\n",
       "      <td>NaN</td>\n",
       "      <td>518.0</td>\n",
       "      <td>7.0</td>\n",
       "      <td>NaN</td>\n",
       "      <td>NaN</td>\n",
       "      <td>NaN</td>\n",
       "      <td>...</td>\n",
       "      <td>APgVoGr</td>\n",
       "      <td>LM8l689qOp</td>\n",
       "      <td>NaN</td>\n",
       "      <td>NaN</td>\n",
       "      <td>kwS7</td>\n",
       "      <td>02N6s8f</td>\n",
       "      <td>xwM2aC7IdeMC0</td>\n",
       "      <td>NaN</td>\n",
       "      <td>NaN</td>\n",
       "      <td>0</td>\n",
       "    </tr>\n",
       "  </tbody>\n",
       "</table>\n",
       "<p>5 rows × 231 columns</p>\n",
       "</div>"
      ],
      "text/plain": [
       "   Var1  Var2  Var3  Var4  Var5    Var6  Var7  Var8  Var9  Var10  ...  \\\n",
       "0   NaN   NaN   NaN   NaN   NaN   931.0   7.0   NaN   NaN    NaN  ...   \n",
       "1   NaN   NaN   NaN   NaN   NaN   245.0   7.0   NaN   NaN    NaN  ...   \n",
       "2   NaN   NaN   NaN   NaN   NaN   791.0   7.0   NaN   NaN    NaN  ...   \n",
       "3   NaN   NaN   NaN   NaN   NaN  1036.0   7.0   NaN   NaN    NaN  ...   \n",
       "4   NaN   NaN   NaN   NaN   NaN   518.0   7.0   NaN   NaN    NaN  ...   \n",
       "\n",
       "    Var222      Var223  Var224  Var225  Var226   Var227  \\\n",
       "0  catzS2D  LM8l689qOp     NaN    ELof    szEZ     ZI9m   \n",
       "1  bTV7qqc  LM8l689qOp     NaN     NaN    fKCe     RAYp   \n",
       "2  2JfQ3DB  jySVZNlOJy     NaN    ELof    7aLG     RAYp   \n",
       "3  hHJsvbM  LM8l689qOp     NaN     NaN    Qcbd     6fzt   \n",
       "4  APgVoGr  LM8l689qOp     NaN     NaN    kwS7  02N6s8f   \n",
       "\n",
       "                   Var228  Var229  Var230  class  \n",
       "0           ib5G6X1eUxUn6     NaN     NaN      0  \n",
       "1           F2FyR07IdsN7I     NaN     NaN      0  \n",
       "2           F2FyR07IdsN7I    am7c     NaN      0  \n",
       "3  SbOd7O8ky1wGNxp0Arj0Xs     NaN     NaN      0  \n",
       "4           xwM2aC7IdeMC0     NaN     NaN      0  \n",
       "\n",
       "[5 rows x 231 columns]"
      ]
     },
     "execution_count": 3,
     "metadata": {},
     "output_type": "execute_result"
    }
   ],
   "source": [
    "df = pd.read_csv('../data/train.txt', sep=' ')\n",
    "df = df.reset_index(drop=True)\n",
    "print(f'Columns: {len(df.columns)}')\n",
    "df.head()"
   ]
  },
  {
   "cell_type": "code",
   "execution_count": 4,
   "metadata": {},
   "outputs": [],
   "source": [
    "c = CatHandler(max_categories=2000, params={'smoothing': 300}, encoder_type='target')\n",
    "m = MLNAFiller(fit_na_threshold=0.1, fill_na_threshold=0.3)\n",
    "p = Preprocessor(c, m)"
   ]
  },
  {
   "cell_type": "code",
   "execution_count": 79,
   "metadata": {},
   "outputs": [
    {
     "name": "stderr",
     "output_type": "stream",
     "text": [
      "/home/bartek/Workspace/venvs/myenv/lib/python3.7/site-packages/sklearn/preprocessing/data.py:625: DataConversionWarning: Data with input dtype int64, float64 were all converted to float64 by StandardScaler.\n",
      "  return self.partial_fit(X, y)\n",
      "/home/bartek/Workspace/venvs/myenv/lib/python3.7/site-packages/sklearn/base.py:462: DataConversionWarning: Data with input dtype int64, float64 were all converted to float64 by StandardScaler.\n",
      "  return self.fit(X, **fit_params).transform(X)\n"
     ]
    },
    {
     "data": {
      "application/vnd.jupyter.widget-view+json": {
       "model_id": "f820df4ddb6c407590ddcfe108bc1af6",
       "version_major": 2,
       "version_minor": 0
      },
      "text/plain": [
       "HBox(children=(IntProgress(value=0, description='Searching for best columns...', max=70, style=ProgressStyle(d…"
      ]
     },
     "metadata": {},
     "output_type": "display_data"
    },
    {
     "name": "stdout",
     "output_type": "stream",
     "text": [
      "\n"
     ]
    },
    {
     "data": {
      "application/vnd.jupyter.widget-view+json": {
       "model_id": "eccc81a4db6a41d2b38ba7a4896f53e9",
       "version_major": 2,
       "version_minor": 0
      },
      "text/plain": [
       "HBox(children=(IntProgress(value=0, description='Fitting for best columns...', max=15, style=ProgressStyle(des…"
      ]
     },
     "metadata": {},
     "output_type": "display_data"
    },
    {
     "name": "stdout",
     "output_type": "stream",
     "text": [
      "\n"
     ]
    },
    {
     "name": "stderr",
     "output_type": "stream",
     "text": [
      "/home/bartek/Workspace/venvs/myenv/lib/python3.7/site-packages/ipykernel_launcher.py:141: DataConversionWarning: Data with input dtype int64, float64 were all converted to float64 by StandardScaler.\n"
     ]
    },
    {
     "data": {
      "application/vnd.jupyter.widget-view+json": {
       "model_id": "8c0c8e8ad3bd4101b6e039287ccdecc8",
       "version_major": 2,
       "version_minor": 0
      },
      "text/plain": [
       "HBox(children=(IntProgress(value=0, max=15), HTML(value='')))"
      ]
     },
     "metadata": {},
     "output_type": "display_data"
    },
    {
     "name": "stdout",
     "output_type": "stream",
     "text": [
      "\n"
     ]
    }
   ],
   "source": [
    "df = p.fit_transform(df)\n",
    "X = df.drop('class', axis=1)\n",
    "y = df['class']"
   ]
  },
  {
   "cell_type": "code",
   "execution_count": 83,
   "metadata": {},
   "outputs": [
    {
     "data": {
      "text/plain": [
       "GridSearchCV(cv=3, error_score='raise-deprecating',\n",
       "       estimator=LogisticRegression(C=1.0, class_weight='balanced', dual=False,\n",
       "          fit_intercept=True, intercept_scaling=1, max_iter=100,\n",
       "          multi_class='warn', n_jobs=None, penalty='l2', random_state=None,\n",
       "          solver='warn', tol=0.0001, verbose=0, warm_start=False),\n",
       "       fit_params=None, iid='warn', n_jobs=-1,\n",
       "       param_grid={'class_weight': ['balanced'], 'C': [1, 3, 6, 9, 12, 15], 'solver': ['newton-cg', 'liblinear']},\n",
       "       pre_dispatch='2*n_jobs', refit=True, return_train_score='warn',\n",
       "       scoring='roc_auc', verbose=0)"
      ]
     },
     "execution_count": 83,
     "metadata": {},
     "output_type": "execute_result"
    }
   ],
   "source": [
    "model = LogisticRegression(class_weight='balanced')\n",
    "params = {\n",
    "    'class_weight': ['balanced'],\n",
    "    'C': [1, 3, 6, 9, 12 ,15],\n",
    "    'solver': ['newton-cg', 'liblinear']\n",
    "}\n",
    "\n",
    "clf = GridSearchCV(estimator=model, param_grid=params, scoring='roc_auc' ,cv=3, n_jobs=-1)\n",
    "clf.fit(X, y)"
   ]
  },
  {
   "cell_type": "code",
   "execution_count": 84,
   "metadata": {},
   "outputs": [
    {
     "data": {
      "text/plain": [
       "{'C': 15, 'class_weight': 'balanced', 'solver': 'newton-cg'}"
      ]
     },
     "execution_count": 84,
     "metadata": {},
     "output_type": "execute_result"
    }
   ],
   "source": [
    "clf.best_params_"
   ]
  },
  {
   "cell_type": "code",
   "execution_count": 85,
   "metadata": {},
   "outputs": [
    {
     "name": "stderr",
     "output_type": "stream",
     "text": [
      "/home/bartek/Workspace/venvs/myenv/lib/python3.7/site-packages/sklearn/utils/deprecation.py:125: FutureWarning: You are accessing a training score ('split0_train_score'), which will not be available by default any more in 0.21. If you need training scores, please set return_train_score=True\n",
      "  warnings.warn(*warn_args, **warn_kwargs)\n",
      "/home/bartek/Workspace/venvs/myenv/lib/python3.7/site-packages/sklearn/utils/deprecation.py:125: FutureWarning: You are accessing a training score ('split1_train_score'), which will not be available by default any more in 0.21. If you need training scores, please set return_train_score=True\n",
      "  warnings.warn(*warn_args, **warn_kwargs)\n",
      "/home/bartek/Workspace/venvs/myenv/lib/python3.7/site-packages/sklearn/utils/deprecation.py:125: FutureWarning: You are accessing a training score ('split2_train_score'), which will not be available by default any more in 0.21. If you need training scores, please set return_train_score=True\n",
      "  warnings.warn(*warn_args, **warn_kwargs)\n",
      "/home/bartek/Workspace/venvs/myenv/lib/python3.7/site-packages/sklearn/utils/deprecation.py:125: FutureWarning: You are accessing a training score ('mean_train_score'), which will not be available by default any more in 0.21. If you need training scores, please set return_train_score=True\n",
      "  warnings.warn(*warn_args, **warn_kwargs)\n",
      "/home/bartek/Workspace/venvs/myenv/lib/python3.7/site-packages/sklearn/utils/deprecation.py:125: FutureWarning: You are accessing a training score ('std_train_score'), which will not be available by default any more in 0.21. If you need training scores, please set return_train_score=True\n",
      "  warnings.warn(*warn_args, **warn_kwargs)\n"
     ]
    },
    {
     "data": {
      "text/plain": [
       "{'mean_fit_time': array([ 8.95195826, 24.02596529,  9.01067241, 33.14362152,  7.25270788,\n",
       "        40.52217325, 11.09555101, 31.85800616,  8.23669402, 26.6539309 ,\n",
       "        10.03358229, 17.21585655]),\n",
       " 'std_fit_time': array([0.67891729, 3.13602634, 1.34455902, 3.84561155, 0.79757415,\n",
       "        1.49706325, 1.06590489, 6.63194749, 1.08488833, 1.2791305 ,\n",
       "        0.32122748, 0.93630782]),\n",
       " 'mean_score_time': array([0.06707358, 0.03722405, 0.02646693, 0.07146184, 0.03120279,\n",
       "        0.04109526, 0.04863564, 0.03675119, 0.02642051, 0.01738167,\n",
       "        0.02207065, 0.00822735]),\n",
       " 'std_score_time': array([0.01366012, 0.00194921, 0.00216691, 0.02459016, 0.01155402,\n",
       "        0.00963554, 0.01282431, 0.0333763 , 0.00463831, 0.00201464,\n",
       "        0.00707541, 0.00079619]),\n",
       " 'param_C': masked_array(data=[1, 1, 3, 3, 6, 6, 9, 9, 12, 12, 15, 15],\n",
       "              mask=[False, False, False, False, False, False, False, False,\n",
       "                    False, False, False, False],\n",
       "        fill_value='?',\n",
       "             dtype=object),\n",
       " 'param_class_weight': masked_array(data=['balanced', 'balanced', 'balanced', 'balanced',\n",
       "                    'balanced', 'balanced', 'balanced', 'balanced',\n",
       "                    'balanced', 'balanced', 'balanced', 'balanced'],\n",
       "              mask=[False, False, False, False, False, False, False, False,\n",
       "                    False, False, False, False],\n",
       "        fill_value='?',\n",
       "             dtype=object),\n",
       " 'param_solver': masked_array(data=['newton-cg', 'liblinear', 'newton-cg', 'liblinear',\n",
       "                    'newton-cg', 'liblinear', 'newton-cg', 'liblinear',\n",
       "                    'newton-cg', 'liblinear', 'newton-cg', 'liblinear'],\n",
       "              mask=[False, False, False, False, False, False, False, False,\n",
       "                    False, False, False, False],\n",
       "        fill_value='?',\n",
       "             dtype=object),\n",
       " 'params': [{'C': 1, 'class_weight': 'balanced', 'solver': 'newton-cg'},\n",
       "  {'C': 1, 'class_weight': 'balanced', 'solver': 'liblinear'},\n",
       "  {'C': 3, 'class_weight': 'balanced', 'solver': 'newton-cg'},\n",
       "  {'C': 3, 'class_weight': 'balanced', 'solver': 'liblinear'},\n",
       "  {'C': 6, 'class_weight': 'balanced', 'solver': 'newton-cg'},\n",
       "  {'C': 6, 'class_weight': 'balanced', 'solver': 'liblinear'},\n",
       "  {'C': 9, 'class_weight': 'balanced', 'solver': 'newton-cg'},\n",
       "  {'C': 9, 'class_weight': 'balanced', 'solver': 'liblinear'},\n",
       "  {'C': 12, 'class_weight': 'balanced', 'solver': 'newton-cg'},\n",
       "  {'C': 12, 'class_weight': 'balanced', 'solver': 'liblinear'},\n",
       "  {'C': 15, 'class_weight': 'balanced', 'solver': 'newton-cg'},\n",
       "  {'C': 15, 'class_weight': 'balanced', 'solver': 'liblinear'}],\n",
       " 'split0_test_score': array([0.84399603, 0.8438712 , 0.84769915, 0.84764954, 0.84820856,\n",
       "        0.84817344, 0.84819117, 0.84279507, 0.84808929, 0.84806982,\n",
       "        0.84797904, 0.84795328]),\n",
       " 'split1_test_score': array([0.82442487, 0.82406013, 0.82973244, 0.82955185, 0.83152811,\n",
       "        0.83139731, 0.83222328, 0.8321291 , 0.83257311, 0.83250717,\n",
       "        0.83280099, 0.83274383]),\n",
       " 'split2_test_score': array([0.8245367 , 0.82427079, 0.82922315, 0.82909616, 0.83053373,\n",
       "        0.83045644, 0.83090616, 0.83087502, 0.83104367, 0.83102007,\n",
       "        0.8310841 , 0.83106795]),\n",
       " 'mean_test_score': array([0.83098619, 0.83073437, 0.83555188, 0.83543282, 0.83675709,\n",
       "        0.83667602, 0.83710715, 0.83526658, 0.83723563, 0.83719929,\n",
       "        0.83728831, 0.83725529]),\n",
       " 'std_test_score': array([0.0091998 , 0.00928989, 0.00859225, 0.00864085, 0.00810789,\n",
       "        0.00813928, 0.0078563 , 0.0053482 , 0.00770034, 0.00771085,\n",
       "        0.00759219, 0.00759578]),\n",
       " 'rank_test_score': array([11, 12,  8,  9,  6,  7,  5, 10,  3,  4,  1,  2], dtype=int32),\n",
       " 'split0_train_score': array([0.82947303, 0.82922425, 0.83483227, 0.83473015, 0.83645736,\n",
       "        0.8364014 , 0.83699717, 0.82708681, 0.83725451, 0.83724177,\n",
       "        0.8374066 , 0.83739169]),\n",
       " 'split1_train_score': array([0.83789455, 0.83768721, 0.84253946, 0.84244592, 0.84382024,\n",
       "        0.84376712, 0.84422737, 0.84419275, 0.84442106, 0.84438523,\n",
       "        0.84451837, 0.84449923]),\n",
       " 'split2_train_score': array([0.83843094, 0.83819352, 0.84323798, 0.84312356, 0.84470033,\n",
       "        0.84462789, 0.84521202, 0.84516913, 0.8454662 , 0.84544387,\n",
       "        0.84562023, 0.84559923]),\n",
       " 'mean_train_score': array([0.83526617, 0.83503499, 0.84020324, 0.84009988, 0.84165931,\n",
       "        0.84159881, 0.84214552, 0.83881623, 0.84238059, 0.84235696,\n",
       "        0.84251506, 0.84249672]),\n",
       " 'std_train_score': array([0.00410222, 0.00411401, 0.00380854, 0.00380703, 0.00369584,\n",
       "        0.00369188, 0.00366256, 0.00830352, 0.00364971, 0.00364271,\n",
       "        0.00364013, 0.00363763])}"
      ]
     },
     "execution_count": 85,
     "metadata": {},
     "output_type": "execute_result"
    }
   ],
   "source": [
    "clf.cv_results_"
   ]
  },
  {
   "cell_type": "code",
   "execution_count": 7,
   "metadata": {},
   "outputs": [
    {
     "name": "stdout",
     "output_type": "stream",
     "text": [
      "Columns: 231\n"
     ]
    },
    {
     "data": {
      "text/html": [
       "<div>\n",
       "<style scoped>\n",
       "    .dataframe tbody tr th:only-of-type {\n",
       "        vertical-align: middle;\n",
       "    }\n",
       "\n",
       "    .dataframe tbody tr th {\n",
       "        vertical-align: top;\n",
       "    }\n",
       "\n",
       "    .dataframe thead th {\n",
       "        text-align: right;\n",
       "    }\n",
       "</style>\n",
       "<table border=\"1\" class=\"dataframe\">\n",
       "  <thead>\n",
       "    <tr style=\"text-align: right;\">\n",
       "      <th></th>\n",
       "      <th>Var1</th>\n",
       "      <th>Var2</th>\n",
       "      <th>Var3</th>\n",
       "      <th>Var4</th>\n",
       "      <th>Var5</th>\n",
       "      <th>Var6</th>\n",
       "      <th>Var7</th>\n",
       "      <th>Var8</th>\n",
       "      <th>Var9</th>\n",
       "      <th>Var10</th>\n",
       "      <th>...</th>\n",
       "      <th>Var222</th>\n",
       "      <th>Var223</th>\n",
       "      <th>Var224</th>\n",
       "      <th>Var225</th>\n",
       "      <th>Var226</th>\n",
       "      <th>Var227</th>\n",
       "      <th>Var228</th>\n",
       "      <th>Var229</th>\n",
       "      <th>Var230</th>\n",
       "      <th>class</th>\n",
       "    </tr>\n",
       "  </thead>\n",
       "  <tbody>\n",
       "    <tr>\n",
       "      <th>0</th>\n",
       "      <td>NaN</td>\n",
       "      <td>NaN</td>\n",
       "      <td>NaN</td>\n",
       "      <td>NaN</td>\n",
       "      <td>NaN</td>\n",
       "      <td>931.0</td>\n",
       "      <td>7.0</td>\n",
       "      <td>NaN</td>\n",
       "      <td>NaN</td>\n",
       "      <td>NaN</td>\n",
       "      <td>...</td>\n",
       "      <td>catzS2D</td>\n",
       "      <td>LM8l689qOp</td>\n",
       "      <td>NaN</td>\n",
       "      <td>ELof</td>\n",
       "      <td>szEZ</td>\n",
       "      <td>ZI9m</td>\n",
       "      <td>ib5G6X1eUxUn6</td>\n",
       "      <td>NaN</td>\n",
       "      <td>NaN</td>\n",
       "      <td>0</td>\n",
       "    </tr>\n",
       "    <tr>\n",
       "      <th>1</th>\n",
       "      <td>NaN</td>\n",
       "      <td>NaN</td>\n",
       "      <td>NaN</td>\n",
       "      <td>NaN</td>\n",
       "      <td>NaN</td>\n",
       "      <td>245.0</td>\n",
       "      <td>7.0</td>\n",
       "      <td>NaN</td>\n",
       "      <td>NaN</td>\n",
       "      <td>NaN</td>\n",
       "      <td>...</td>\n",
       "      <td>bTV7qqc</td>\n",
       "      <td>LM8l689qOp</td>\n",
       "      <td>NaN</td>\n",
       "      <td>NaN</td>\n",
       "      <td>fKCe</td>\n",
       "      <td>RAYp</td>\n",
       "      <td>F2FyR07IdsN7I</td>\n",
       "      <td>NaN</td>\n",
       "      <td>NaN</td>\n",
       "      <td>0</td>\n",
       "    </tr>\n",
       "    <tr>\n",
       "      <th>2</th>\n",
       "      <td>NaN</td>\n",
       "      <td>NaN</td>\n",
       "      <td>NaN</td>\n",
       "      <td>NaN</td>\n",
       "      <td>NaN</td>\n",
       "      <td>791.0</td>\n",
       "      <td>7.0</td>\n",
       "      <td>NaN</td>\n",
       "      <td>NaN</td>\n",
       "      <td>NaN</td>\n",
       "      <td>...</td>\n",
       "      <td>2JfQ3DB</td>\n",
       "      <td>jySVZNlOJy</td>\n",
       "      <td>NaN</td>\n",
       "      <td>ELof</td>\n",
       "      <td>7aLG</td>\n",
       "      <td>RAYp</td>\n",
       "      <td>F2FyR07IdsN7I</td>\n",
       "      <td>am7c</td>\n",
       "      <td>NaN</td>\n",
       "      <td>0</td>\n",
       "    </tr>\n",
       "    <tr>\n",
       "      <th>3</th>\n",
       "      <td>NaN</td>\n",
       "      <td>NaN</td>\n",
       "      <td>NaN</td>\n",
       "      <td>NaN</td>\n",
       "      <td>NaN</td>\n",
       "      <td>1036.0</td>\n",
       "      <td>7.0</td>\n",
       "      <td>NaN</td>\n",
       "      <td>NaN</td>\n",
       "      <td>NaN</td>\n",
       "      <td>...</td>\n",
       "      <td>hHJsvbM</td>\n",
       "      <td>LM8l689qOp</td>\n",
       "      <td>NaN</td>\n",
       "      <td>NaN</td>\n",
       "      <td>Qcbd</td>\n",
       "      <td>6fzt</td>\n",
       "      <td>SbOd7O8ky1wGNxp0Arj0Xs</td>\n",
       "      <td>NaN</td>\n",
       "      <td>NaN</td>\n",
       "      <td>0</td>\n",
       "    </tr>\n",
       "    <tr>\n",
       "      <th>4</th>\n",
       "      <td>NaN</td>\n",
       "      <td>NaN</td>\n",
       "      <td>NaN</td>\n",
       "      <td>NaN</td>\n",
       "      <td>NaN</td>\n",
       "      <td>518.0</td>\n",
       "      <td>7.0</td>\n",
       "      <td>NaN</td>\n",
       "      <td>NaN</td>\n",
       "      <td>NaN</td>\n",
       "      <td>...</td>\n",
       "      <td>APgVoGr</td>\n",
       "      <td>LM8l689qOp</td>\n",
       "      <td>NaN</td>\n",
       "      <td>NaN</td>\n",
       "      <td>kwS7</td>\n",
       "      <td>02N6s8f</td>\n",
       "      <td>xwM2aC7IdeMC0</td>\n",
       "      <td>NaN</td>\n",
       "      <td>NaN</td>\n",
       "      <td>0</td>\n",
       "    </tr>\n",
       "  </tbody>\n",
       "</table>\n",
       "<p>5 rows × 231 columns</p>\n",
       "</div>"
      ],
      "text/plain": [
       "   Var1  Var2  Var3  Var4  Var5    Var6  Var7  Var8  Var9  Var10  ...  \\\n",
       "0   NaN   NaN   NaN   NaN   NaN   931.0   7.0   NaN   NaN    NaN  ...   \n",
       "1   NaN   NaN   NaN   NaN   NaN   245.0   7.0   NaN   NaN    NaN  ...   \n",
       "2   NaN   NaN   NaN   NaN   NaN   791.0   7.0   NaN   NaN    NaN  ...   \n",
       "3   NaN   NaN   NaN   NaN   NaN  1036.0   7.0   NaN   NaN    NaN  ...   \n",
       "4   NaN   NaN   NaN   NaN   NaN   518.0   7.0   NaN   NaN    NaN  ...   \n",
       "\n",
       "    Var222      Var223  Var224  Var225  Var226   Var227  \\\n",
       "0  catzS2D  LM8l689qOp     NaN    ELof    szEZ     ZI9m   \n",
       "1  bTV7qqc  LM8l689qOp     NaN     NaN    fKCe     RAYp   \n",
       "2  2JfQ3DB  jySVZNlOJy     NaN    ELof    7aLG     RAYp   \n",
       "3  hHJsvbM  LM8l689qOp     NaN     NaN    Qcbd     6fzt   \n",
       "4  APgVoGr  LM8l689qOp     NaN     NaN    kwS7  02N6s8f   \n",
       "\n",
       "                   Var228  Var229  Var230  class  \n",
       "0           ib5G6X1eUxUn6     NaN     NaN      0  \n",
       "1           F2FyR07IdsN7I     NaN     NaN      0  \n",
       "2           F2FyR07IdsN7I    am7c     NaN      0  \n",
       "3  SbOd7O8ky1wGNxp0Arj0Xs     NaN     NaN      0  \n",
       "4           xwM2aC7IdeMC0     NaN     NaN      0  \n",
       "\n",
       "[5 rows x 231 columns]"
      ]
     },
     "execution_count": 7,
     "metadata": {},
     "output_type": "execute_result"
    }
   ],
   "source": [
    "df = pd.read_csv('../data/train.txt', sep=' ')\n",
    "df = df.reset_index(drop=True)\n",
    "print(f'Columns: {len(df.columns)}')\n",
    "df.head()"
   ]
  },
  {
   "cell_type": "code",
   "execution_count": 29,
   "metadata": {},
   "outputs": [],
   "source": [
    "train_df, test_df = train_test_split(df, test_size=0.3)\n",
    "train_df = train_df.reset_index(drop=True)\n",
    "test_df = test_df.reset_index(drop=True)"
   ]
  },
  {
   "cell_type": "code",
   "execution_count": 38,
   "metadata": {},
   "outputs": [],
   "source": [
    "c = CatHandler(max_categories=60, params={'smoothing': 300}, encoder_type='target')\n",
    "m = MLNAFiller(fit_na_threshold=0.1, fill_na_threshold=0.3, strategy='median')\n",
    "p = Preprocessor(c, m)"
   ]
  },
  {
   "cell_type": "code",
   "execution_count": 39,
   "metadata": {},
   "outputs": [
    {
     "data": {
      "application/vnd.jupyter.widget-view+json": {
       "model_id": "26215b16506a4f6b81e936bd7b6150a3",
       "version_major": 2,
       "version_minor": 0
      },
      "text/plain": [
       "HBox(children=(IntProgress(value=0, description='Searching for best columns...', max=64, style=ProgressStyle(d…"
      ]
     },
     "metadata": {},
     "output_type": "display_data"
    },
    {
     "name": "stdout",
     "output_type": "stream",
     "text": [
      "\n"
     ]
    },
    {
     "data": {
      "application/vnd.jupyter.widget-view+json": {
       "model_id": "debf77bd601a402794d113d58517f438",
       "version_major": 2,
       "version_minor": 0
      },
      "text/plain": [
       "HBox(children=(IntProgress(value=0, description='Fitting for best columns...', max=17, style=ProgressStyle(des…"
      ]
     },
     "metadata": {},
     "output_type": "display_data"
    },
    {
     "name": "stdout",
     "output_type": "stream",
     "text": [
      "\n"
     ]
    },
    {
     "data": {
      "application/vnd.jupyter.widget-view+json": {
       "model_id": "87027cdc3849498eb105cb7a09a3cd3f",
       "version_major": 2,
       "version_minor": 0
      },
      "text/plain": [
       "HBox(children=(IntProgress(value=0, max=17), HTML(value='')))"
      ]
     },
     "metadata": {},
     "output_type": "display_data"
    },
    {
     "name": "stdout",
     "output_type": "stream",
     "text": [
      "\n"
     ]
    },
    {
     "data": {
      "application/vnd.jupyter.widget-view+json": {
       "model_id": "50d1e48dc3224074b9e5b7f0337cd51d",
       "version_major": 2,
       "version_minor": 0
      },
      "text/plain": [
       "HBox(children=(IntProgress(value=0, max=17), HTML(value='')))"
      ]
     },
     "metadata": {},
     "output_type": "display_data"
    },
    {
     "name": "stdout",
     "output_type": "stream",
     "text": [
      "\n"
     ]
    }
   ],
   "source": [
    "train_X = train_df.drop('class', axis=1)\n",
    "train_y = train_df['class']\n",
    "test_X = test_df.drop('class', axis=1)\n",
    "test_y = test_df['class']\n",
    "\n",
    "train_X = p.fit_transform(train_X, train_y)\n",
    "test_X = p.transform(test_X)"
   ]
  },
  {
   "cell_type": "code",
   "execution_count": 40,
   "metadata": {},
   "outputs": [
    {
     "data": {
      "text/plain": [
       "LogisticRegression(C=15, class_weight='balanced', dual=False,\n",
       "          fit_intercept=True, intercept_scaling=1, max_iter=100,\n",
       "          multi_class='warn', n_jobs=None, penalty='l2', random_state=None,\n",
       "          solver='newton-cg', tol=0.0001, verbose=0, warm_start=False)"
      ]
     },
     "execution_count": 40,
     "metadata": {},
     "output_type": "execute_result"
    }
   ],
   "source": [
    "model = LogisticRegression(C=15, class_weight='balanced', solver='newton-cg')\n",
    "model.fit(train_X, train_y)"
   ]
  },
  {
   "cell_type": "code",
   "execution_count": 41,
   "metadata": {},
   "outputs": [
    {
     "data": {
      "text/plain": [
       "(0.32666666666666666, 0.8001066414455243)"
      ]
     },
     "execution_count": 41,
     "metadata": {},
     "output_type": "execute_result"
    }
   ],
   "source": [
    "def custom_score(y_true, y_pred):\n",
    "    ind = np.argsort(y_pred)[::-1]\n",
    "    check_size = int(np.ceil(0.1 * len(y_true)))\n",
    "    y_true = y_true[ind][:check_size]\n",
    "    return np.mean(y_true)\n",
    "\n",
    "y_preds_proba = model.predict_proba(test_X)[:,1]\n",
    "c_score = custom_score(test_y, y_preds_proba)\n",
    "auc = roc_auc_score(test_y, y_preds_proba)\n",
    "c_score, auc"
   ]
  },
  {
   "cell_type": "markdown",
   "metadata": {},
   "source": [
    "# Naive Bayes"
   ]
  },
  {
   "cell_type": "code",
   "execution_count": 43,
   "metadata": {},
   "outputs": [
    {
     "name": "stdout",
     "output_type": "stream",
     "text": [
      "Columns: 231\n"
     ]
    },
    {
     "data": {
      "text/html": [
       "<div>\n",
       "<style scoped>\n",
       "    .dataframe tbody tr th:only-of-type {\n",
       "        vertical-align: middle;\n",
       "    }\n",
       "\n",
       "    .dataframe tbody tr th {\n",
       "        vertical-align: top;\n",
       "    }\n",
       "\n",
       "    .dataframe thead th {\n",
       "        text-align: right;\n",
       "    }\n",
       "</style>\n",
       "<table border=\"1\" class=\"dataframe\">\n",
       "  <thead>\n",
       "    <tr style=\"text-align: right;\">\n",
       "      <th></th>\n",
       "      <th>Var1</th>\n",
       "      <th>Var2</th>\n",
       "      <th>Var3</th>\n",
       "      <th>Var4</th>\n",
       "      <th>Var5</th>\n",
       "      <th>Var6</th>\n",
       "      <th>Var7</th>\n",
       "      <th>Var8</th>\n",
       "      <th>Var9</th>\n",
       "      <th>Var10</th>\n",
       "      <th>...</th>\n",
       "      <th>Var222</th>\n",
       "      <th>Var223</th>\n",
       "      <th>Var224</th>\n",
       "      <th>Var225</th>\n",
       "      <th>Var226</th>\n",
       "      <th>Var227</th>\n",
       "      <th>Var228</th>\n",
       "      <th>Var229</th>\n",
       "      <th>Var230</th>\n",
       "      <th>class</th>\n",
       "    </tr>\n",
       "  </thead>\n",
       "  <tbody>\n",
       "    <tr>\n",
       "      <th>0</th>\n",
       "      <td>NaN</td>\n",
       "      <td>NaN</td>\n",
       "      <td>NaN</td>\n",
       "      <td>NaN</td>\n",
       "      <td>NaN</td>\n",
       "      <td>931.0</td>\n",
       "      <td>7.0</td>\n",
       "      <td>NaN</td>\n",
       "      <td>NaN</td>\n",
       "      <td>NaN</td>\n",
       "      <td>...</td>\n",
       "      <td>catzS2D</td>\n",
       "      <td>LM8l689qOp</td>\n",
       "      <td>NaN</td>\n",
       "      <td>ELof</td>\n",
       "      <td>szEZ</td>\n",
       "      <td>ZI9m</td>\n",
       "      <td>ib5G6X1eUxUn6</td>\n",
       "      <td>NaN</td>\n",
       "      <td>NaN</td>\n",
       "      <td>0</td>\n",
       "    </tr>\n",
       "    <tr>\n",
       "      <th>1</th>\n",
       "      <td>NaN</td>\n",
       "      <td>NaN</td>\n",
       "      <td>NaN</td>\n",
       "      <td>NaN</td>\n",
       "      <td>NaN</td>\n",
       "      <td>245.0</td>\n",
       "      <td>7.0</td>\n",
       "      <td>NaN</td>\n",
       "      <td>NaN</td>\n",
       "      <td>NaN</td>\n",
       "      <td>...</td>\n",
       "      <td>bTV7qqc</td>\n",
       "      <td>LM8l689qOp</td>\n",
       "      <td>NaN</td>\n",
       "      <td>NaN</td>\n",
       "      <td>fKCe</td>\n",
       "      <td>RAYp</td>\n",
       "      <td>F2FyR07IdsN7I</td>\n",
       "      <td>NaN</td>\n",
       "      <td>NaN</td>\n",
       "      <td>0</td>\n",
       "    </tr>\n",
       "    <tr>\n",
       "      <th>2</th>\n",
       "      <td>NaN</td>\n",
       "      <td>NaN</td>\n",
       "      <td>NaN</td>\n",
       "      <td>NaN</td>\n",
       "      <td>NaN</td>\n",
       "      <td>791.0</td>\n",
       "      <td>7.0</td>\n",
       "      <td>NaN</td>\n",
       "      <td>NaN</td>\n",
       "      <td>NaN</td>\n",
       "      <td>...</td>\n",
       "      <td>2JfQ3DB</td>\n",
       "      <td>jySVZNlOJy</td>\n",
       "      <td>NaN</td>\n",
       "      <td>ELof</td>\n",
       "      <td>7aLG</td>\n",
       "      <td>RAYp</td>\n",
       "      <td>F2FyR07IdsN7I</td>\n",
       "      <td>am7c</td>\n",
       "      <td>NaN</td>\n",
       "      <td>0</td>\n",
       "    </tr>\n",
       "    <tr>\n",
       "      <th>3</th>\n",
       "      <td>NaN</td>\n",
       "      <td>NaN</td>\n",
       "      <td>NaN</td>\n",
       "      <td>NaN</td>\n",
       "      <td>NaN</td>\n",
       "      <td>1036.0</td>\n",
       "      <td>7.0</td>\n",
       "      <td>NaN</td>\n",
       "      <td>NaN</td>\n",
       "      <td>NaN</td>\n",
       "      <td>...</td>\n",
       "      <td>hHJsvbM</td>\n",
       "      <td>LM8l689qOp</td>\n",
       "      <td>NaN</td>\n",
       "      <td>NaN</td>\n",
       "      <td>Qcbd</td>\n",
       "      <td>6fzt</td>\n",
       "      <td>SbOd7O8ky1wGNxp0Arj0Xs</td>\n",
       "      <td>NaN</td>\n",
       "      <td>NaN</td>\n",
       "      <td>0</td>\n",
       "    </tr>\n",
       "    <tr>\n",
       "      <th>4</th>\n",
       "      <td>NaN</td>\n",
       "      <td>NaN</td>\n",
       "      <td>NaN</td>\n",
       "      <td>NaN</td>\n",
       "      <td>NaN</td>\n",
       "      <td>518.0</td>\n",
       "      <td>7.0</td>\n",
       "      <td>NaN</td>\n",
       "      <td>NaN</td>\n",
       "      <td>NaN</td>\n",
       "      <td>...</td>\n",
       "      <td>APgVoGr</td>\n",
       "      <td>LM8l689qOp</td>\n",
       "      <td>NaN</td>\n",
       "      <td>NaN</td>\n",
       "      <td>kwS7</td>\n",
       "      <td>02N6s8f</td>\n",
       "      <td>xwM2aC7IdeMC0</td>\n",
       "      <td>NaN</td>\n",
       "      <td>NaN</td>\n",
       "      <td>0</td>\n",
       "    </tr>\n",
       "  </tbody>\n",
       "</table>\n",
       "<p>5 rows × 231 columns</p>\n",
       "</div>"
      ],
      "text/plain": [
       "   Var1  Var2  Var3  Var4  Var5    Var6  Var7  Var8  Var9  Var10  ...  \\\n",
       "0   NaN   NaN   NaN   NaN   NaN   931.0   7.0   NaN   NaN    NaN  ...   \n",
       "1   NaN   NaN   NaN   NaN   NaN   245.0   7.0   NaN   NaN    NaN  ...   \n",
       "2   NaN   NaN   NaN   NaN   NaN   791.0   7.0   NaN   NaN    NaN  ...   \n",
       "3   NaN   NaN   NaN   NaN   NaN  1036.0   7.0   NaN   NaN    NaN  ...   \n",
       "4   NaN   NaN   NaN   NaN   NaN   518.0   7.0   NaN   NaN    NaN  ...   \n",
       "\n",
       "    Var222      Var223  Var224  Var225  Var226   Var227  \\\n",
       "0  catzS2D  LM8l689qOp     NaN    ELof    szEZ     ZI9m   \n",
       "1  bTV7qqc  LM8l689qOp     NaN     NaN    fKCe     RAYp   \n",
       "2  2JfQ3DB  jySVZNlOJy     NaN    ELof    7aLG     RAYp   \n",
       "3  hHJsvbM  LM8l689qOp     NaN     NaN    Qcbd     6fzt   \n",
       "4  APgVoGr  LM8l689qOp     NaN     NaN    kwS7  02N6s8f   \n",
       "\n",
       "                   Var228  Var229  Var230  class  \n",
       "0           ib5G6X1eUxUn6     NaN     NaN      0  \n",
       "1           F2FyR07IdsN7I     NaN     NaN      0  \n",
       "2           F2FyR07IdsN7I    am7c     NaN      0  \n",
       "3  SbOd7O8ky1wGNxp0Arj0Xs     NaN     NaN      0  \n",
       "4           xwM2aC7IdeMC0     NaN     NaN      0  \n",
       "\n",
       "[5 rows x 231 columns]"
      ]
     },
     "execution_count": 43,
     "metadata": {},
     "output_type": "execute_result"
    }
   ],
   "source": [
    "df = pd.read_csv('../data/train.txt', sep=' ')\n",
    "df = df.reset_index(drop=True)\n",
    "print(f'Columns: {len(df.columns)}')\n",
    "df.head()"
   ]
  },
  {
   "cell_type": "code",
   "execution_count": 44,
   "metadata": {},
   "outputs": [],
   "source": [
    "train_df, test_df = train_test_split(df, test_size=0.3)\n",
    "train_df = train_df.reset_index(drop=True)\n",
    "test_df = test_df.reset_index(drop=True)"
   ]
  },
  {
   "cell_type": "code",
   "execution_count": 63,
   "metadata": {},
   "outputs": [],
   "source": [
    "c = CatHandler(max_categories=60, params={'smoothing': 300}, encoder_type='target')\n",
    "m = MLNAFiller(fit_na_threshold=0.1, fill_na_threshold=0.3, strategy='median')\n",
    "p = Preprocessor(c, m)"
   ]
  },
  {
   "cell_type": "code",
   "execution_count": 64,
   "metadata": {},
   "outputs": [
    {
     "data": {
      "application/vnd.jupyter.widget-view+json": {
       "model_id": "ac6495ec3fc44f50af46c54c85e113c0",
       "version_major": 2,
       "version_minor": 0
      },
      "text/plain": [
       "HBox(children=(IntProgress(value=0, description='Searching for best columns...', max=64, style=ProgressStyle(d…"
      ]
     },
     "metadata": {},
     "output_type": "display_data"
    },
    {
     "name": "stdout",
     "output_type": "stream",
     "text": [
      "\n"
     ]
    },
    {
     "data": {
      "application/vnd.jupyter.widget-view+json": {
       "model_id": "3d02793240994edca497e9bb83b32e85",
       "version_major": 2,
       "version_minor": 0
      },
      "text/plain": [
       "HBox(children=(IntProgress(value=0, description='Fitting for best columns...', max=17, style=ProgressStyle(des…"
      ]
     },
     "metadata": {},
     "output_type": "display_data"
    },
    {
     "name": "stdout",
     "output_type": "stream",
     "text": [
      "\n"
     ]
    },
    {
     "data": {
      "application/vnd.jupyter.widget-view+json": {
       "model_id": "186ca437bf014a43928c3fd3bc41e5db",
       "version_major": 2,
       "version_minor": 0
      },
      "text/plain": [
       "HBox(children=(IntProgress(value=0, max=17), HTML(value='')))"
      ]
     },
     "metadata": {},
     "output_type": "display_data"
    },
    {
     "name": "stdout",
     "output_type": "stream",
     "text": [
      "\n"
     ]
    },
    {
     "data": {
      "application/vnd.jupyter.widget-view+json": {
       "model_id": "e96e5bbf327f47f4a4ae3f0a7095f12c",
       "version_major": 2,
       "version_minor": 0
      },
      "text/plain": [
       "HBox(children=(IntProgress(value=0, max=17), HTML(value='')))"
      ]
     },
     "metadata": {},
     "output_type": "display_data"
    },
    {
     "name": "stdout",
     "output_type": "stream",
     "text": [
      "\n"
     ]
    }
   ],
   "source": [
    "train_X = train_df.drop('class', axis=1)\n",
    "train_y = train_df['class']\n",
    "test_X = test_df.drop('class', axis=1)\n",
    "test_y = test_df['class']\n",
    "\n",
    "train_X = p.fit_transform(train_X, train_y)\n",
    "test_X = p.transform(test_X)"
   ]
  },
  {
   "cell_type": "code",
   "execution_count": 65,
   "metadata": {},
   "outputs": [
    {
     "data": {
      "text/plain": [
       "GaussianNB(priors=None, var_smoothing=1e-09)"
      ]
     },
     "execution_count": 65,
     "metadata": {},
     "output_type": "execute_result"
    }
   ],
   "source": [
    "model = GaussianNB()\n",
    "model.fit(train_X, train_y)"
   ]
  },
  {
   "cell_type": "code",
   "execution_count": 66,
   "metadata": {},
   "outputs": [
    {
     "data": {
      "text/plain": [
       "(0.16583333333333333, 0.6937247807387528)"
      ]
     },
     "execution_count": 66,
     "metadata": {},
     "output_type": "execute_result"
    }
   ],
   "source": [
    "y_preds_proba = model.predict_proba(test_X)[:,1]\n",
    "c_score = custom_score(test_y, y_preds_proba)\n",
    "auc = roc_auc_score(test_y, y_preds_proba)\n",
    "c_score, auc"
   ]
  },
  {
   "cell_type": "code",
   "execution_count": null,
   "metadata": {},
   "outputs": [],
   "source": []
  }
 ],
 "metadata": {
  "kernelspec": {
   "display_name": "Python 3",
   "language": "python",
   "name": "python3"
  },
  "language_info": {
   "codemirror_mode": {
    "name": "ipython",
    "version": 3
   },
   "file_extension": ".py",
   "mimetype": "text/x-python",
   "name": "python",
   "nbconvert_exporter": "python",
   "pygments_lexer": "ipython3",
   "version": "3.7.3"
  }
 },
 "nbformat": 4,
 "nbformat_minor": 2
}
